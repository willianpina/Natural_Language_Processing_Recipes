{
 "cells": [
  {
   "cell_type": "markdown",
   "source": [
    "<h1 align=center>Capítulo 2 - Explorando e processando dados de texto</h1>\n",
    "<p align=center><img src=http://opencadd.com.br/wp-content/uploads/2021/02/machine-redimensionado.jpg width=500></p>\n",
    "\n",
    "\n",
    "Este capítulo discute vários métodos e técnicas para pré-processar dados textuais e análise exploratória de dados. Abrange as seguintes receitas.\n",
    "* Receita 1. Receita de minúsculas\n",
    "* Receita 2. Remoção de pontuação\n",
    "* Receita 3. Remoção de stop words\n",
    "* Receita 4. Padronização de texto\n",
    "* Receita 5. Correção ortográfica\n",
    "* Receita 6. Yokenização\n",
    "* Receita 7. Stemming\n",
    "* Receita 8. Lematização\n",
    "* Receita 9. Análise exploratória de dados\n",
    "* Receita 10. Lidando com emojis e emoticons\n",
    "* Receita 11. Pipeline de processamento de ponta a ponta\n",
    "\n",
    "Antes de pular diretamente para as receitas, vamos primeiro entender a necessidade de pré-processar os dados de texto. Como você sabe, cerca de 90% dos dados mundiais não são estruturados e podem estar presentes na forma de imagem, texto, áudio e vídeo. O texto pode vir de várias formas, desde uma lista de palavras individuais até frases e vários parágrafos com caracteres especiais (como tweets e outras pontuações). Também pode estar presente na forma de web, HTML, documentos e assim por diante. E esses dados nunca são limpos e consistem em muito ruído. Ele precisa ser tratado e, em seguida, executar algumas funções de pré-processamento para garantir que você tenha os dados de entrada corretos para a engenharia de recursos e construção do modelo. Se você não pré-processar os dados, quaisquer algoritmos construídos sobre esses dados não agregam valor a um negócio. Isso nos lembra de uma frase muito popular em ciência de dados: “Entra lixo, sai lixo”.\n",
    "\n",
    "O pré-processamento envolve a transformação de dados de texto bruto em um formato compreensível. Os dados do mundo real geralmente são incompletos, inconsistentes e cheios de ruídos e provavelmente contêm muitos erros. O pré-processamento é um método comprovado de resolver esses problemas. O pré-processamento de dados prepara os dados de texto bruto para processamento posterior.\n",
    "\n",
    "## Receita 2-1. Convertendo dados de texto para letras minúsculas\n",
    "Esta receita discute como colocar os dados de texto em letras minúsculas para ter todos os dados em um formato uniforme e garantir que “NLP” e “nlp” sejam tratados da mesma forma.\n",
    "### Problema\n",
    "Você deseja colocar os dados de texto em letras minúsculas.\n",
    "### Solução\n",
    "A maneira mais simples é usar a função padrão lower() em Python. O método lower() converte todos os caracteres maiúsculos em uma string em caracteres minúsculos e os retorna.\n",
    "\n",
    "### Como funciona\n",
    "Siga as etapas desta seção para colocar em letras minúsculas um determinado texto ou documento. Aqui, Python é usado.\n",
    "#### Etapa 1-1. Ler/criar os dados de texto\n",
    "Vamos criar uma lista de strings e atribuí-la a uma variável."
   ],
   "metadata": {
    "collapsed": false
   }
  },
  {
   "cell_type": "code",
   "execution_count": 114,
   "outputs": [
    {
     "name": "stdout",
     "output_type": "stream",
     "text": [
      "                                               tweet\n",
      "0                        This is introduction to NLP\n",
      "1              It is likely to be useful, to people \n",
      "2             Machine learning is the new electrcity\n",
      "3  There would be less hype around AI and more ac...\n",
      "4                           python is the best tool!\n",
      "5                                R is good langauage\n",
      "6                                   I like this book\n",
      "7                        I want more books like this\n"
     ]
    }
   ],
   "source": [
    "text=['This is introduction to NLP','It is likely to be useful, to people ',\n",
    "      'Machine learning is the new electrcity',\n",
    "      'There would be less hype around AI and more action going forward',\n",
    "      'python is the best tool!',\n",
    "      'R is good langauage',\n",
    "      'I like this book',\n",
    "      'I want more books like this']\n",
    "\n",
    "#convert list to data frame\n",
    "import pandas as pd\n",
    "df = pd.DataFrame({'tweet':text})\n",
    "print(df)"
   ],
   "metadata": {
    "collapsed": false
   }
  },
  {
   "cell_type": "markdown",
   "source": [
    "#### Etapa 1-2. Execute a função lower() nos dados de texto\n",
    "Quando houver apenas uma string, aplique diretamente a função lower() da seguinte maneira."
   ],
   "metadata": {
    "collapsed": false
   }
  },
  {
   "cell_type": "code",
   "execution_count": 115,
   "outputs": [
    {
     "name": "stdout",
     "output_type": "stream",
     "text": [
      "testing\n"
     ]
    }
   ],
   "source": [
    "x = 'Testing'\n",
    "x2 = x.lower()\n",
    "print(x2)"
   ],
   "metadata": {
    "collapsed": false
   }
  },
  {
   "cell_type": "markdown",
   "source": [
    "Quando você deseja executar letras minúsculas em um quadro de dados, use a função apply da seguinte maneira."
   ],
   "metadata": {
    "collapsed": false
   }
  },
  {
   "cell_type": "code",
   "execution_count": 116,
   "outputs": [
    {
     "data": {
      "text/plain": "0                          this is introduction to nlp\n1                 it is likely to be useful, to people\n2               machine learning is the new electrcity\n3    there would be less hype around ai and more ac...\n4                             python is the best tool!\n5                                  r is good langauage\n6                                     i like this book\n7                          i want more books like this\nName: tweet, dtype: object"
     },
     "execution_count": 116,
     "metadata": {},
     "output_type": "execute_result"
    }
   ],
   "source": [
    "df['tweet'] = df['tweet'].apply(lambda x: \" \".join(x.lower() for x in x.split()))\n",
    "df['tweet']"
   ],
   "metadata": {
    "collapsed": false
   }
  },
  {
   "cell_type": "code",
   "execution_count": 117,
   "outputs": [],
   "source": [
    "# Alterantivamente podemos utilizar\n",
    "df['tweet'] = df['tweet'].str.lower()"
   ],
   "metadata": {
    "collapsed": false
   }
  },
  {
   "cell_type": "markdown",
   "source": [
    "Isso é tudo. A coluna inteira do tweet foi convertida em minúsculas. Vamos ver o que mais você pode fazer nas próximas receitas.\n",
    "\n",
    "## Receita 2-2. Removendo pontuação\n",
    "Esta receita discute como remover pontuação de dados de texto. Esta etapa é muito importante, pois a pontuação não adiciona nenhuma informação ou valor extra. Portanto, a remoção de todas essas instâncias reduz o tamanho dos dados e aumenta a eficiência computacional.\n",
    "### Problema\n",
    "Você deseja remover a pontuação dos dados de texto.\n",
    "### Solução\n",
    "A maneira mais simples é usar regex e a função replace() em Python.\n",
    "### Como funciona\n",
    "Siga as etapas desta seção para remover a pontuação dos dados de texto.\n",
    "#### Etapa 2-1. Ler/criar os dados de texto\n",
    "Vamos criar uma lista de strings e atribuí-la a uma variável."
   ],
   "metadata": {
    "collapsed": false
   }
  },
  {
   "cell_type": "code",
   "execution_count": 118,
   "outputs": [
    {
     "name": "stdout",
     "output_type": "stream",
     "text": [
      "                                               tweet\n",
      "0                        This is introduction to NLP\n",
      "1              It is likely to be useful, to people \n",
      "2             Machine learning is the new electrcity\n",
      "3  There would be less hype around AI and more ac...\n",
      "4                           python is the best tool!\n",
      "5                                R is good langauage\n",
      "6                                   I like this book\n",
      "7                        I want more books like this\n"
     ]
    }
   ],
   "source": [
    "text=['This is introduction to NLP','It is likely to be useful, to people ',\n",
    "      'Machine learning is the new electrcity',\n",
    "      'There would be less hype around AI and more action going forward',\n",
    "      'python is the best tool!',\n",
    "      'R is good langauage',\n",
    "      'I like this book',\n",
    "      'I want more books like this']\n",
    "\n",
    "#convert list to dataframe\n",
    "import pandas as pd\n",
    "df = pd.DataFrame({'tweet':text})\n",
    "print(df)"
   ],
   "metadata": {
    "collapsed": false
   }
  },
  {
   "cell_type": "markdown",
   "source": [
    "#### Etapa 2-2. Execute a função replace() nos dados de texto\n",
    "Com a função regex e replace(), você pode remover a pontuação da seguinte maneira."
   ],
   "metadata": {
    "collapsed": false
   }
  },
  {
   "cell_type": "code",
   "execution_count": 119,
   "outputs": [
    {
     "data": {
      "text/plain": "'Eu  gosto  deste livro '"
     },
     "execution_count": 119,
     "metadata": {},
     "output_type": "execute_result"
    }
   ],
   "source": [
    "import re\n",
    "s = \"Eu. gosto. deste livro!\"\n",
    "s1 = re.sub(r'[^\\w\\s]',' ',s)\n",
    "s1"
   ],
   "metadata": {
    "collapsed": false
   }
  },
  {
   "cell_type": "code",
   "execution_count": 120,
   "outputs": [
    {
     "name": "stderr",
     "output_type": "stream",
     "text": [
      "C:\\Users\\willi\\AppData\\Local\\Temp\\ipykernel_17412\\665793160.py:1: FutureWarning: The default value of regex will change from True to False in a future version.\n",
      "  df['tweet'] = df['tweet'].str.replace('[^\\w\\s]','',)\n"
     ]
    },
    {
     "data": {
      "text/plain": "0                          This is introduction to NLP\n1                 It is likely to be useful to people \n2               Machine learning is the new electrcity\n3    There would be less hype around AI and more ac...\n4                              python is the best tool\n5                                  R is good langauage\n6                                     I like this book\n7                          I want more books like this\nName: tweet, dtype: object"
     },
     "execution_count": 120,
     "metadata": {},
     "output_type": "execute_result"
    }
   ],
   "source": [
    "df['tweet'] = df['tweet'].str.replace('[^\\w\\s]','',)\n",
    "df['tweet']"
   ],
   "metadata": {
    "collapsed": false
   }
  },
  {
   "cell_type": "code",
   "execution_count": 121,
   "outputs": [
    {
     "data": {
      "text/plain": "'Eu gosto deste livro'"
     },
     "execution_count": 121,
     "metadata": {},
     "output_type": "execute_result"
    }
   ],
   "source": [
    "# Ou:\n",
    "import string\n",
    "\n",
    "s = \"Eu. gosto. deste livro!\"\n",
    "for c in string.punctuation:\n",
    "      s = s.replace(c,'')\n",
    "s"
   ],
   "metadata": {
    "collapsed": false
   }
  },
  {
   "cell_type": "markdown",
   "source": [
    "## Receita 2-3. Removendo palavras de parada\n",
    "Esta receita discute como remover *'stop words'*. As *stop words* são palavras muito comuns que não têm significado ou têm menos significado em comparação com outras palavras-chave. Se você remover as palavras menos usadas, poderá se concentrar nas palavras-chave importantes. Por exemplo, em um mecanismo de pesquisa, se sua consulta de pesquisa for *\"Como desenvolver um chatbot usando Python\"*, se o mecanismo de pesquisa tentar encontrar páginas da Web que contenham as palavras *como*, *para*, *desenvolver*, *chatbot*, *usando* e *python*, o mecanismo de pesquisa encontra muito mais páginas que contêm *como* e *para* do que páginas que contêm informações sobre o *desenvolvimento de um chatbot* porque as palavras *como* e *para* são muito usadas no idioma inglês. Portanto, se você remover essas palavras, o mecanismo de pesquisa poderá se concentrar em recuperar páginas que contenham as palavras-chave *development*, *chatbot* e *python*, o que traria mais de perto as páginas de interesse real. Da mesma forma, você também pode remover outras palavras comuns e palavras raras.\n",
    "### Problema\n",
    "Você deseja remover stop words (palavras de parada).\n",
    "### Solução\n",
    "A maneira mais simples é usar a biblioteca NLTK ou construir seu próprio arquivo de palavras de parada.\n",
    "### Como funciona\n",
    "Siga as etapas desta seção para remover palavras de parada dos dados de texto.\n",
    "#### Etapa 3-1. Ler/criar os dados de texto\n",
    "Vamos criar uma lista de strings e atribuí-la a uma variável."
   ],
   "metadata": {
    "collapsed": false
   }
  },
  {
   "cell_type": "code",
   "execution_count": 122,
   "outputs": [
    {
     "name": "stdout",
     "output_type": "stream",
     "text": [
      "                                               tweet\n",
      "0                        This is introduction to NLP\n",
      "1              It is likely to be useful, to people \n",
      "2             Machine learning is the new electrcity\n",
      "3  There would be less hype around AI and more ac...\n",
      "4                           python is the best tool!\n",
      "5                                R is good langauage\n",
      "6                                   I like this book\n",
      "7                        I want more books like this\n"
     ]
    }
   ],
   "source": [
    "text=['This is introduction to NLP',\n",
    "      'It is likely to be useful, to people ',\n",
    "      'Machine learning is the new electrcity',\n",
    "      'There would be less hype around AI and more action going forward',\n",
    "      'python is the best tool!',\n",
    "      'R is good langauage',\n",
    "      'I like this book',\n",
    "      'I want more books like this']\n",
    "#convert list to data frame\n",
    "import pandas as pd\n",
    "df = pd.DataFrame({'tweet':text})\n",
    "print(df)"
   ],
   "metadata": {
    "collapsed": false
   }
  },
  {
   "cell_type": "markdown",
   "source": [
    "#### Etapa 3-2. Remover pontuação dos dados de texto\n",
    "Com a biblioteca NLTK, você pode remover a pontuação, conforme mostrado a seguir."
   ],
   "metadata": {
    "collapsed": false
   }
  },
  {
   "cell_type": "code",
   "execution_count": 123,
   "outputs": [
    {
     "name": "stdout",
     "output_type": "stream",
     "text": [
      "showing info https://raw.githubusercontent.com/nltk/nltk_data/gh-pages/index.xml\n"
     ]
    }
   ],
   "source": [
    "import nltk\n",
    "nltk.download()\n",
    "from nltk.corpus import stopwords"
   ],
   "metadata": {
    "collapsed": false
   }
  },
  {
   "cell_type": "code",
   "execution_count": 124,
   "outputs": [
    {
     "data": {
      "text/plain": "0                                This introduction NLP\n1                             It likely useful, people\n2                      Machine learning new electrcity\n3    There would less hype around AI action going f...\n4                                    python best tool!\n5                                     R good langauage\n6                                          I like book\n7                                    I want books like\nName: tweet, dtype: object"
     },
     "execution_count": 124,
     "metadata": {},
     "output_type": "execute_result"
    }
   ],
   "source": [
    "#remove stop words\n",
    "stop = stopwords.words('english')\n",
    "df['tweet'] = df['tweet'].apply(lambda x: \" \".join(x for x in x.split() if x not in stop))\n",
    "df['tweet']"
   ],
   "metadata": {
    "collapsed": false
   }
  },
  {
   "cell_type": "markdown",
   "source": [
    "Não há palavras de stop word. Tudo foi removido nesta etapa.\n",
    "\n",
    "## Receita 2-4. Padronização de texto\n",
    "Esta receita discute como padronizar texto. Mas antes disso, vamos discutir a padronização de texto e por que você precisa dela. A maioria dos dados textuais está em avaliações de clientes, blogs ou tweets, onde há uma grande chance de as pessoas usarem palavras curtas e abreviações para representar o mesmo significado. Isso pode ajudar o processo de baixo nível a entender e resolver facilmente a semântica do texto.\n",
    "### Problema\n",
    "Você deseja padronizar o texto.\n",
    "### Solução\n",
    "Você pode escrever seu próprio dicionário personalizado para procurar palavras curtas e abreviações. Primeiro, você precisa ver se há palavras curtas e abreviações presentes nos dados. Isso pode ser alcançado observando a distribuição de frequência das palavras em nosso documento ou visualizando através da nuvem de palavras antes de criar um dicionário personalizado.\n",
    "### Como funciona\n",
    "Siga as etapas desta seção para realizar a padronização de texto.\n",
    "#### Etapa 4-1. Criar um dicionário de pesquisa personalizado\n",
    "O dicionário é para padronização de texto com base em seus dados."
   ],
   "metadata": {
    "collapsed": false
   }
  },
  {
   "cell_type": "code",
   "execution_count": 125,
   "outputs": [],
   "source": [
    "lookup_dict = {'nlp':'natural language processing',\n",
    "               'ur':'your',\n",
    "               \"wbu\" : \"what about you\"}\n",
    "import re"
   ],
   "metadata": {
    "collapsed": false
   }
  },
  {
   "cell_type": "markdown",
   "source": [
    "#### Etapa 4-2. Crie uma função personalizada para padronização de texto\n",
    "Aqui está o código:"
   ],
   "metadata": {
    "collapsed": false
   }
  },
  {
   "cell_type": "code",
   "execution_count": 126,
   "outputs": [],
   "source": [
    "def text_std(input_text):\n",
    "      words = input_text.split()\n",
    "      new_words = []\n",
    "      for word in words:\n",
    "            word = re.sub(r'[^\\w\\s]','',word)\n",
    "            if word.lower() in lookup_dict:\n",
    "                  word = lookup_dict[word.lower()]\n",
    "                  new_words.append(word)\n",
    "                  new_text = \" \".join(new_words)\n",
    "      return new_text"
   ],
   "metadata": {
    "collapsed": false
   }
  },
  {
   "cell_type": "markdown",
   "source": [
    "#### Etapa 4-3. Execute a função text_std\n",
    "A saída também precisa ser verificada."
   ],
   "metadata": {
    "collapsed": false
   }
  },
  {
   "cell_type": "code",
   "execution_count": 127,
   "outputs": [
    {
     "data": {
      "text/plain": "'natural language processing your'"
     },
     "execution_count": 127,
     "metadata": {},
     "output_type": "execute_result"
    }
   ],
   "source": [
    "text_std(\"I like nlp it's ur choice\")"
   ],
   "metadata": {
    "collapsed": false
   }
  },
  {
   "cell_type": "markdown",
   "source": [
    "Aqui, nlp padronizou para 'natural language processing' e ur para 'your'."
   ],
   "metadata": {
    "collapsed": false
   }
  },
  {
   "cell_type": "markdown",
   "source": [
    "## Receita 2-5. Corrigindo ortografia\n",
    "Esta receita discute como fazer a correção ortográfica. Mas antes disso, vamos ver por que essa correção ortográfica é importante. A maioria dos dados de texto está em avaliações de clientes, blogs ou tweets, onde há uma grande chance de as pessoas usarem palavras curtas e cometerem erros de digitação. Isso reduz várias cópias de palavras, que representam o mesmo significado. Por exemplo, “proccessing” e “processing” são tratados como palavras diferentes, mesmo se usadas no mesmo sentido. Observe que as abreviações devem ser tratadas antes desta etapa, caso contrário, o corretor falharia às vezes. Digamos, por exemplo, \"ur\" (na verdade significa \"seu\") seria corrigido para \"ou\".\n",
    "### Problema\n",
    "Você deseja fazer a correção ortográfica.\n",
    "### Solução\n",
    "A maneira mais simples é usar a biblioteca TextBlob.\n",
    "### Como funciona\n",
    "Siga as etapas desta seção para fazer correções ortográficas.\n",
    "#### Etapa 5-1. Ler/criar os dados de texto\n",
    "Vamos criar uma lista de strings e atribuí-la a uma variável."
   ],
   "metadata": {
    "collapsed": false
   }
  },
  {
   "cell_type": "code",
   "execution_count": 128,
   "outputs": [
    {
     "name": "stdout",
     "output_type": "stream",
     "text": [
      "                                    tweet\n",
      "0                     Introduction to NLP\n",
      "1    It is likely to be useful, to people\n",
      "2  Machine learning is the new electrcity\n",
      "3                     R is good langauage\n",
      "4                        I like this book\n",
      "5             I want more books like this\n"
     ]
    }
   ],
   "source": [
    "text=['Introduction to NLP','It is likely to be useful, to people',\n",
    "      'Machine learning is the new electrcity',\n",
    "      'R is good langauage',\n",
    "      'I like this book',\n",
    "      'I want more books like this']\n",
    "#convert list to dataframe\n",
    "import pandas as pd\n",
    "df = pd.DataFrame({'tweet':text})\n",
    "print(df)"
   ],
   "metadata": {
    "collapsed": false
   }
  },
  {
   "cell_type": "markdown",
   "source": [
    "#### Etapa 5-2. Executar correção ortográfica nos dados de texto\n",
    "Usando TextBlob, você pode fazer ortografia, como mostrado a seguir."
   ],
   "metadata": {
    "collapsed": false
   }
  },
  {
   "cell_type": "code",
   "execution_count": 129,
   "outputs": [
    {
     "data": {
      "text/plain": "0                        Introduction to NLP\n1       It is likely to be useful, to people\n2    Machine learning is the new electricity\n3                         R is good language\n4                           I like this book\n5                I want more books like this\nName: tweet, dtype: object"
     },
     "execution_count": 129,
     "metadata": {},
     "output_type": "execute_result"
    }
   ],
   "source": [
    "from textblob import TextBlob\n",
    "df['tweet'].apply(lambda x: str(TextBlob(x).correct()))"
   ],
   "metadata": {
    "collapsed": false
   }
  },
  {
   "cell_type": "markdown",
   "source": [
    "Observe que a ortografia de eletricidade e linguagem foram corrigidas."
   ],
   "metadata": {
    "collapsed": false
   }
  },
  {
   "cell_type": "code",
   "execution_count": 130,
   "outputs": [
    {
     "name": "stdout",
     "output_type": "stream",
     "text": [
      "message\n",
      "service\n"
     ]
    }
   ],
   "source": [
    "# Podemos usar a autocorrect\n",
    "from autocorrect import Speller\n",
    "spell = Speller()\n",
    "print(spell(u'mussage'))\n",
    "print(spell(u'sirvice'))"
   ],
   "metadata": {
    "collapsed": false
   }
  },
  {
   "cell_type": "markdown",
   "source": [
    "## Receita 2-6. Texto de tokenização\n",
    "Esta receita analisa maneiras de tokenizar. Tokenização refere-se à divisão de texto em unidades mínimas significativas. Há um tokenizer de frase e um tokenizer de palavra. Você vê um tokenizer de palavra nesta receita. É uma etapa obrigatória no pré-processamento de texto para qualquer tipo de análise. Existem muitas bibliotecas para executar tokenização como NLTK, spaCy e TextBlob. Aqui estão algumas maneiras de alcançá-lo.\n",
    "### Problema\n",
    "Você deseja fazer tokenização.\n",
    "### Solução\n",
    "A maneira mais simples é usar a biblioteca TextBlob. Como funciona Siga as etapas desta seção para executar a tokenização.\n",
    "#### Etapa 6-1. Ler/criar os dados de texto\n",
    "Vamos criar uma lista de strings e atribuí-la a uma variável."
   ],
   "metadata": {
    "collapsed": false
   }
  },
  {
   "cell_type": "code",
   "execution_count": 131,
   "outputs": [
    {
     "name": "stdout",
     "output_type": "stream",
     "text": [
      "                                               tweet\n",
      "0                        This is introduction to NLP\n",
      "1              It is likely to be useful, to people \n",
      "2             Machine learning is the new electrcity\n",
      "3  There would be less hype around AI and more ac...\n",
      "4                           python is the best tool!\n",
      "5                                R is good langauage\n",
      "6                                   I like this book\n",
      "7                        I want more books like this\n"
     ]
    }
   ],
   "source": [
    "text=['This is introduction to NLP',\n",
    "      'It is likely to be useful, to people ',\n",
    "      'Machine learning is the new electrcity',\n",
    "      'There would be less hype around AI and more action going forward','python is the best tool!',\n",
    "      'R is good langauage',\n",
    "      'I like this book',\n",
    "      'I want more books like this']\n",
    "\n",
    "#convert list to dataframe\n",
    "import pandas as pd\n",
    "df = pd.DataFrame({'tweet':text})\n",
    "print(df)"
   ],
   "metadata": {
    "collapsed": false
   }
  },
  {
   "cell_type": "markdown",
   "source": [
    "#### Etapa 6-2. Tokenize os dados de texto\n",
    "O resultado da tokenização é uma lista de tokens."
   ],
   "metadata": {
    "collapsed": false
   }
  },
  {
   "cell_type": "code",
   "execution_count": 132,
   "outputs": [
    {
     "data": {
      "text/plain": "WordList(['There', 'would', 'be', 'less', 'hype', 'around', 'AI', 'and', 'more', 'action', 'going', 'forward'])"
     },
     "execution_count": 132,
     "metadata": {},
     "output_type": "execute_result"
    }
   ],
   "source": [
    "#Using textblob\n",
    "from textblob import TextBlob\n",
    "TextBlob(df['tweet'][3]).words"
   ],
   "metadata": {
    "collapsed": false
   }
  },
  {
   "cell_type": "code",
   "execution_count": 133,
   "outputs": [
    {
     "data": {
      "text/plain": "['My', 'favorite', 'animal', 'is', 'cat']"
     },
     "execution_count": 133,
     "metadata": {},
     "output_type": "execute_result"
    }
   ],
   "source": [
    "#using NLTK\n",
    "import nltk\n",
    "#create data\n",
    "mystring = \"My favorite animal is cat\"\n",
    "nltk.word_tokenize(mystring)"
   ],
   "metadata": {
    "collapsed": false
   }
  },
  {
   "cell_type": "code",
   "execution_count": 134,
   "outputs": [
    {
     "data": {
      "text/plain": "['My', 'favorite', 'animal', 'is', 'cat']"
     },
     "execution_count": 134,
     "metadata": {},
     "output_type": "execute_result"
    }
   ],
   "source": [
    "#using split function from python\n",
    "mystring.split()"
   ],
   "metadata": {
    "collapsed": false
   }
  },
  {
   "cell_type": "markdown",
   "source": [
    "## Receita 2-7. Stemming\n",
    "Esta receita discute o desmembramento. Stemming é o processo de extrair uma palavra raiz. Por exemplo, peixe, pescaria e pesca são derivados de peixes.\n",
    "### Problema\n",
    "Você quer fazer stemming.\n",
    "### Solução\n",
    "A maneira mais simples é usar o NLTK ou a biblioteca TextBlob.\n",
    "### Como funciona\n",
    "Siga as etapas nesta seção para realizar a derivação.\n",
    "#### Etapa 7-1. Leia os dados de texto\n",
    "Vamos criar uma lista de strings e atribuí-la a uma variável."
   ],
   "metadata": {
    "collapsed": false
   }
  },
  {
   "cell_type": "code",
   "execution_count": 135,
   "outputs": [
    {
     "name": "stdout",
     "output_type": "stream",
     "text": [
      "                            tweet\n",
      "0                  I like fishing\n",
      "1                      I eat fish\n",
      "2  There are many fishes in pound\n"
     ]
    }
   ],
   "source": [
    "text=['I like fishing','I eat fish','There are many fishes in pound']\n",
    "#convert list to dataframe\n",
    "import pandas as pd\n",
    "df = pd.DataFrame({'tweet':text})\n",
    "print(df)"
   ],
   "metadata": {
    "collapsed": false
   }
  },
  {
   "cell_type": "markdown",
   "source": [
    "#### Etapa 7-2. Sustente o texto\n",
    "Execute o seguinte código nos dados de texto."
   ],
   "metadata": {
    "collapsed": false
   }
  },
  {
   "cell_type": "code",
   "execution_count": 136,
   "outputs": [
    {
     "data": {
      "text/plain": "0                     i like fish\n1                      i eat fish\n2    there are mani fish in pound\nName: tweet, dtype: object"
     },
     "execution_count": 136,
     "metadata": {},
     "output_type": "execute_result"
    }
   ],
   "source": [
    "from nltk.stem import PorterStemmer\n",
    "st = PorterStemmer()\n",
    "df['tweet'][:5].apply(lambda x: \" \".join([st.stem(word) for word in x.split()]))"
   ],
   "metadata": {
    "collapsed": false
   }
  },
  {
   "cell_type": "markdown",
   "source": [
    "Observe que fish, fishing, e fishes foram todos derivados de peixes.\n",
    "## Receita 2-8. Lematização\n",
    "Esta receita discute a lematização, o processo de extrair uma palavra raiz considerando o vocabulário. Por exemplo, *good*, *better*, ou *best* é lematizado em *good*.\n",
    "A parte do discurso de uma palavra é determinada na lematização. Ele retorna a forma de dicionário de uma palavra, que deve ser válida. Enquanto o *stemming* apenas extrai a palavra raiz.\n",
    "* A lematização lida com a correspondência de *car* com *cars* junto com a correspondência de *car* com *automobile*.\n",
    "* O *Stemming* lida combinando *car* com *cars*.\n",
    "\n",
    "A lematização pode obter melhores resultados.\n",
    "* A forma *stemmed* das *leafs* é *leaf*.\n",
    "* A forma *stemmed* das *leaves* é *leav*.\n",
    "* A forma lematizada de *leafs* é *leaf*.\n",
    "* A forma lematizada das *leaves* é *leaf*.\n",
    "\n",
    "### Problema\n",
    "Você deseja realizar a lematização.\n",
    "### Solução\n",
    "A maneira mais simples é usar o NLTK ou a biblioteca TextBlob.\n",
    "### Como funciona\n",
    "Siga as etapas desta seção para realizar a lematização.\n",
    "#### Etapa 8-1. Leia os dados de texto\n",
    "Vamos criar uma lista de strings e atribuí-la a uma variável."
   ],
   "metadata": {
    "collapsed": false
   }
  },
  {
   "cell_type": "code",
   "execution_count": 137,
   "outputs": [
    {
     "name": "stdout",
     "output_type": "stream",
     "text": [
      "                            tweet\n",
      "0                  I like fishing\n",
      "1                      I eat fish\n",
      "2  There are many fishes in pound\n",
      "3                 leaves and leaf\n"
     ]
    }
   ],
   "source": [
    "text=['I like fishing','I eat fish','There are many fishes in pound',\n",
    "'leaves and leaf']\n",
    "#convert list to dataframe\n",
    "import pandas as pd\n",
    "df = pd.DataFrame({'tweet':text})\n",
    "print(df)"
   ],
   "metadata": {
    "collapsed": false
   }
  },
  {
   "cell_type": "markdown",
   "source": [
    "#### Etapa 8-2. Lematizar os dados\n",
    "Execute o seguinte código nos dados de texto."
   ],
   "metadata": {
    "collapsed": false
   }
  },
  {
   "cell_type": "code",
   "execution_count": 138,
   "outputs": [
    {
     "data": {
      "text/plain": "0                  I like fishing\n1                      I eat fish\n2    There are many fish in pound\n3                   leaf and leaf\nName: tweet, dtype: object"
     },
     "execution_count": 138,
     "metadata": {},
     "output_type": "execute_result"
    }
   ],
   "source": [
    "from textblob import Word\n",
    "#Code for lemmatize\n",
    "df['tweet'] = df['tweet'].apply(lambda x: \" \".join([Word(word).lemmatize()\n",
    "for word in x.split()]))\n",
    "df['tweet']"
   ],
   "metadata": {
    "collapsed": false
   }
  },
  {
   "cell_type": "markdown",
   "source": [
    "Você pode observar que *fish* e *fishes* são lematizados para *fish*, e *leaves* e *leaf* são lematizadas para *leaf*.\n",
    "\n",
    "## Receita 2-9. Explorando dados de texto\n",
    "Até agora, você deve estar confortável com a coleta de dados e o pré-processamento de texto. Vamos realizar uma análise exploratória de dados.\n",
    "### Problema\n",
    "Você deseja explorar e entender os dados de texto.\n",
    "### Solução\n",
    "A maneira mais simples é usar o NLTK ou a biblioteca TextBlob.\n",
    "### Como funciona\n",
    "Siga as etapas deste processo.\n",
    "#### Etapa 9-1. Leia os dados de texto\n",
    "Execute o código a seguir para baixar o conjunto de dados, caso ainda não o tenha feito."
   ],
   "metadata": {
    "collapsed": false
   }
  },
  {
   "cell_type": "code",
   "execution_count": 139,
   "outputs": [
    {
     "name": "stderr",
     "output_type": "stream",
     "text": [
      "[nltk_data] Downloading package webtext to\n",
      "[nltk_data]     C:\\Users\\willi\\AppData\\Roaming\\nltk_data...\n",
      "[nltk_data]   Package webtext is already up-to-date!\n"
     ]
    }
   ],
   "source": [
    "import nltk\n",
    "from nltk.corpus import webtext\n",
    "nltk.download('webtext')\n",
    "wt_sentences = webtext.sents('firefox.txt')\n",
    "wt_words = webtext.words('firefox.txt')"
   ],
   "metadata": {
    "collapsed": false
   }
  },
  {
   "cell_type": "code",
   "execution_count": 140,
   "outputs": [],
   "source": [
    "doc = open('noticia.txt', 'r', encoding='utf8')\n",
    "noticia = str([noticia.strip() for noticia in doc])\n",
    "\n",
    "# tokenizando os elementos:\n",
    "noticia = nltk.word_tokenize(noticia)\n",
    "\n",
    "# Removendo Stopwords\n",
    "\n",
    "stop = stopwords.words('portuguese')\n",
    "pontuação = string.punctuation\n",
    "other_words = ['e','a', '.', ',', 'O',\"'\",'da', 'o', 'na', 'de', 'há', 'sobre', 'Não', 'não', 'foi', 'por', 'para', 'pelos', 'que', '(', ')', 'uma', 'após', 'deste', 'desta', \"``\", \":\", 'dos']\n",
    "\n",
    "noticia = [''.join(palavra) for palavra in noticia if palavra not in (stop and string.punctuation and other_words)]"
   ],
   "metadata": {
    "collapsed": false
   }
  },
  {
   "cell_type": "markdown",
   "source": [
    "#### Etapa 9-2. Importar bibliotecas necessárias\n",
    "Biblioteca de importação para frequência de computação:"
   ],
   "metadata": {
    "collapsed": false
   }
  },
  {
   "cell_type": "code",
   "execution_count": 141,
   "outputs": [],
   "source": [
    "from nltk.probability import FreqDist\n",
    "from nltk.corpus import stopwords\n",
    "import string"
   ],
   "metadata": {
    "collapsed": false
   }
  },
  {
   "cell_type": "markdown",
   "source": [
    "#### Etapa 9-3 Verifique o número de palavras nos dados\n",
    "Conte o número de palavras:"
   ],
   "metadata": {
    "collapsed": false
   }
  },
  {
   "cell_type": "code",
   "execution_count": 142,
   "outputs": [
    {
     "data": {
      "text/plain": "267"
     },
     "execution_count": 142,
     "metadata": {},
     "output_type": "execute_result"
    }
   ],
   "source": [
    "len(noticia)"
   ],
   "metadata": {
    "collapsed": false
   }
  },
  {
   "cell_type": "markdown",
   "source": [
    "#### Etapa 9-4. Calcular a frequência de todas as palavras nas revisões\n",
    "Gerando frequência para todas as palavras:"
   ],
   "metadata": {
    "collapsed": false
   }
  },
  {
   "cell_type": "code",
   "execution_count": 143,
   "outputs": [
    {
     "data": {
      "text/plain": "FreqDist({'Santos': 9, 'anos': 8, 'homicídio': 7, 'qualificado': 7, 'associação': 7, 'criminosa': 7, 'armada': 6, 'em': 5, 'dias': 5, 'triplamente': 5, ...})"
     },
     "execution_count": 143,
     "metadata": {},
     "output_type": "execute_result"
    }
   ],
   "source": [
    "frequency_dist = nltk.FreqDist(noticia)\n",
    "frequency_dist"
   ],
   "metadata": {
    "collapsed": false
   }
  },
  {
   "cell_type": "code",
   "execution_count": 144,
   "outputs": [
    {
     "data": {
      "text/plain": "['Santos',\n 'anos',\n 'homicídio',\n 'qualificado',\n 'associação',\n 'criminosa',\n 'armada',\n 'em',\n 'dias',\n 'triplamente',\n 'uso',\n 'documento',\n 'meses',\n 'condenado',\n 'Rodrigues',\n 'falso',\n 'regime',\n 'semiaberto',\n 'homem',\n 'moradores',\n 'Souza',\n 'condenada',\n '4',\n '2',\n '20',\n 'duas',\n 'vezes',\n 'agredido',\n 'roubar',\n 'motocicleta',\n 'Rua',\n 'Brasília',\n 'Zona',\n 'Leste',\n 'Manaus',\n 'equipe',\n '11ª',\n 'Cicom',\n 'estava',\n 'suspeito',\n \"'Flordelis\",\n 'Cézar',\n 'outros',\n 'tentativa',\n 'duplamente',\n 'prisão',\n 'ilegal',\n 'inocentada',\n '[',\n \"'Um\",\n 'ainda',\n 'identificado',\n 'tentar',\n 'tarde',\n 'domingo',\n '13',\n 'bairro',\n 'Coroado',\n \"'Segundo\",\n 'plantão',\n 'Companhia',\n 'Interativa',\n 'Comunitária',\n 'perceberam',\n 'tentando',\n 'estacionada',\n 'via',\n 'tentou',\n 'fugir',\n 'correu',\n '300',\n 'metros',\n 'mas',\n 'alcançando',\n 'desmaiou',\n \"'Moradores\",\n 'acionaram',\n 'levaram',\n 'Hospital',\n 'Pronto-Socorro',\n 'João',\n 'Lúcio',\n \"'Não\",\n 'informações',\n 'estado',\n 'saúde',\n 'dele',\n 'Lucas',\n 'Simone',\n 'Flávio',\n 'foram',\n 'condenados',\n 'pelo',\n 'assassinato',\n 'si',\n 'Os',\n 'quatro',\n 'crimes',\n 'associados',\n 'caso',\n '50',\n '28',\n \"'Simone\",\n '31',\n \"'Flávio\",\n '33',\n 'porte',\n 'arma',\n \"'Lucas\",\n '7',\n 'meio',\n 'Teve',\n 'pena',\n 'reduzida',\n 'ter',\n 'colaborado',\n 'com',\n 'as',\n 'investigações',\n \"'Carlos\",\n 'Ubiraci',\n 'Francisco',\n 'Silva',\n 'Foi',\n 'absolvido',\n 'acusação',\n \"'Adriano\",\n '6',\n \"'Marcos\",\n 'Siqueira',\n 'Costa',\n '5',\n \"'Andrea\",\n 'Maia',\n '3',\n '10',\n \"'Rayane\",\n \"'Marzy\",\n 'Teixeira',\n \"'André\",\n 'Luiz',\n 'Oliveira',\n 'inocentado',\n ']']"
     },
     "execution_count": 144,
     "metadata": {},
     "output_type": "execute_result"
    }
   ],
   "source": [
    "sorted(frequency_dist,key=frequency_dist.__getitem__,reverse=True)"
   ],
   "metadata": {
    "collapsed": false
   }
  },
  {
   "cell_type": "markdown",
   "source": [
    "#### Etapa 9-5. Considere palavras com comprimento maior que 3 e plote\n",
    "Vamos considerar apenas palavras se sua frequência for maior que três."
   ],
   "metadata": {
    "collapsed": false
   }
  },
  {
   "cell_type": "code",
   "execution_count": 145,
   "outputs": [
    {
     "data": {
      "text/plain": "<Figure size 1500x600 with 1 Axes>",
      "image/png": "[encoded data removed]"
     },
     "metadata": {},
     "output_type": "display_data"
    }
   ],
   "source": [
    "import matplotlib.pyplot as plt\n",
    "large_words = dict([(k,v) for k,v in frequency_dist.items() if len(k)>3])\n",
    "frequency_dist = nltk.FreqDist(large_words)\n",
    "plt.figure(figsize=(15,6))\n",
    "frequency_dist.plot(50,cumulative=False)\n",
    "plt.show()"
   ],
   "metadata": {
    "collapsed": false
   }
  },
  {
   "cell_type": "markdown",
   "source": [
    "#### Etapa 9-6. Construir uma nuvem de palavras\n",
    "Uma nuvem de palavras é uma representação pictórica das palavras repetidas com mais frequência."
   ],
   "metadata": {
    "collapsed": false
   }
  },
  {
   "cell_type": "code",
   "execution_count": 146,
   "outputs": [
    {
     "data": {
      "text/plain": "<Figure size 640x480 with 1 Axes>",
      "image/png": "[encoded data removed]"
     },
     "metadata": {},
     "output_type": "display_data"
    }
   ],
   "source": [
    "# construir uma wordcloud\n",
    "from wordcloud import WordCloud\n",
    "wcloud = WordCloud()\n",
    "wcloud = WordCloud().generate_from_frequencies(frequency_dist)\n",
    "\n",
    "# Plotando o wordcloud\n",
    "plt.imshow(wcloud, interpolation=\"bilinear\")\n",
    "plt.axis(\"off\")\n",
    "(-0.5, 399.5, 199.5, -0.5)\n",
    "plt.show()"
   ],
   "metadata": {
    "collapsed": false
   }
  },
  {
   "cell_type": "markdown",
   "source": [
    "## Receita 2-10. Lidando com Emojis e Emoticons\n",
    "O que é um emoji? A palavra *emoji* significa essencialmente “caractere de imagem” (do japonês *e* que significa “imagem: e *moji* que significa “caractere de letra”). O que é um emoticon? :): -] Um emoticon representa uma expressão facial humana que usa apenas caracteres do teclado, como letras, números e sinais de pontuação.\n",
    "\n",
    "No mundo online de hoje, emojis e emoticons são o idioma principal que nos permite comunicar com qualquer pessoa globalmente quando precisamos ser rápidos e precisos. Ambos emoji e emoticons desempenham um papel essencial na análise de texto. Eles são usados com mais frequência em mídias sociais, e-mails e mensagens de texto, embora possam ser encontrados em qualquer tipo de comunicação eletrônica. Nos casos em que as emoções não são úteis, pode ser necessário removê-las de sua análise textual. Por outro lado, você deve retê-los porque eles fornecem informações valiosas, especialmente na análise de sentimentos, e removê-los pode não ser uma solução adequada; por exemplo, se uma empresa quer saber como as pessoas se sentem em relação a um novo produto, uma nova campanha ou a marca nas mídias sociais.\n",
    "\n",
    "Os emojis ajudam a identificar onde o engajamento do consumidor precisa ser melhorado, imaginando o humor, as atitudes e as opiniões dos usuários. Isso fornece informações essenciais e é vital para qualquer empresa entender melhor os sentimentos de seus clientes. A coleta e análise de dados sobre emojis e emoticons fornecem informações úteis às empresas. Eles podem ser convertidos em um formato de palavra para serem usados em processos de modelagem. Neste livro, você verá como salvar emojis e emoticons em forma de palavra usando Python. Este livro usa uma biblioteca chamada **emot**.\n",
    "\n",
    "### Problema\n",
    "Você deseja substituir um emoji por uma palavra relevante e significativa.\n",
    "\n",
    "### Solução\n",
    "A maneira mais simples é usar a biblioteca emot.\n",
    "### Como funciona\n",
    "Siga estas próximas etapas.\n",
    "#### Etapa 10-A1. Leia os dados de texto"
   ],
   "metadata": {
    "collapsed": false
   }
  },
  {
   "cell_type": "code",
   "execution_count": 147,
   "outputs": [],
   "source": [
    "# criar dados de texto de exemplo com emoji\n",
    "text1 = \"What are you saying 😂. I am the boss😎, and why are you so 😒\""
   ],
   "metadata": {
    "collapsed": false
   }
  },
  {
   "cell_type": "markdown",
   "source": [
    "#### Etapa 10-A2. Instale e importe as bibliotecas necessárias\n"
   ],
   "metadata": {
    "collapsed": false
   }
  },
  {
   "cell_type": "code",
   "execution_count": 154,
   "outputs": [],
   "source": [
    "#Instalando a biblioteca emot\n",
    "import re\n",
    "from emot.emo_unicode import UNICODE_EMOJI"
   ],
   "metadata": {
    "collapsed": false
   }
  },
  {
   "cell_type": "markdown",
   "source": [
    "#### Etapa 10-A3. Escreva uma função que transforme emojis em palavras"
   ],
   "metadata": {
    "collapsed": false
   }
  },
  {
   "cell_type": "code",
   "execution_count": 155,
   "outputs": [],
   "source": [
    "# Função para converter emojis em palavras\n",
    "def converting_emojis(text):\n",
    "      for emot in UNICODE_EMOJI:\n",
    "            text = text.replace(emot, \"_\".join(UNICODE_EMOJI[emot].\n",
    "                                               replace(\",\",\"\").replace(\":\",\"\").split()))\n",
    "      return text"
   ],
   "metadata": {
    "collapsed": false
   }
  },
  {
   "cell_type": "markdown",
   "source": [
    "#### Etapa 10-A4. Passe o texto com um emoji para a função"
   ],
   "metadata": {
    "collapsed": false
   }
  },
  {
   "cell_type": "code",
   "execution_count": 156,
   "outputs": [
    {
     "data": {
      "text/plain": "'What are you saying face_with_tears_of_joy. I am the bosssmiling_face_with_sunglasses, and why are you so unamused_face'"
     },
     "execution_count": 156,
     "metadata": {},
     "output_type": "execute_result"
    }
   ],
   "source": [
    "converting_emojis(text1)"
   ],
   "metadata": {
    "collapsed": false
   }
  },
  {
   "cell_type": "markdown",
   "source": [
    "### Problema\n",
    "Você deseja remover emoji\n",
    "### Solução\n",
    "A maneira mais simples é usar Unicode.\n",
    "### Como funciona\n",
    "Siga estes próximos passos.\n",
    "#### Etapa 10-B1. Leia os dados de texto"
   ],
   "metadata": {
    "collapsed": false
   }
  },
  {
   "cell_type": "code",
   "execution_count": 157,
   "outputs": [],
   "source": [
    "#create sample text data with emoji\n",
    "text1 = \"What are you saying 😂. I am the boss😎, and why are you so 😒\""
   ],
   "metadata": {
    "collapsed": false
   }
  },
  {
   "cell_type": "markdown",
   "source": [
    "#### Etapa 10-B2. Instale e importe as bibliotecas necessárias"
   ],
   "metadata": {
    "collapsed": false
   }
  },
  {
   "cell_type": "code",
   "execution_count": 158,
   "outputs": [],
   "source": [
    "import re\n",
    "from emot.emo_unicode import UNICODE_EMOJI"
   ],
   "metadata": {
    "collapsed": false
   }
  },
  {
   "cell_type": "markdown",
   "source": [
    "#### Step 10-B3. Write a function to remove emojis"
   ],
   "metadata": {
    "collapsed": false
   }
  },
  {
   "cell_type": "code",
   "execution_count": 282,
   "outputs": [],
   "source": [
    "def emoji_removal(string):\n",
    "      emoji_unicodes = re.compile(\"[\"\n",
    "                                  u\"\\U0001F600-\\U0001F64F\" # emoticons\n",
    "                                  u\"\\U0001F300-\\U0001F5FF\" # symbols\n",
    "                                  u\"\\U0001F680-\\U0001F6FF\" # transport\n",
    "                                  u\"\\U0001F1E0-\\U0001F1FF\" # flags (iOS)\n",
    "                                  u\"\\U00002500-\\U00002BEF\"\n",
    "                                  u\"\\U00002702-\\U000027B0\"\n",
    "                                  u\"\\U000024C2-\\U0001F251\"\n",
    "                                  u\"\\U0001f926-\\U0001f937\"\n",
    "                                  u\"\\U00010000-\\U0010ffff\"\n",
    "                                  u\"\\u2640-\\u2642\"\n",
    "                                  u\"\\u2600-\\u2B55\"\n",
    "                                  u\"\\u200d\"\n",
    "                                  u\"\\u23cf\"\n",
    "                                  u\"\\u23e9\"\n",
    "                                  u\"\\u231a\"\n",
    "                                  u\"\\ufe0f\"\n",
    "                                  u\"\\u3030\"\n",
    "                                  \"]+\", flags=re.UNICODE)\n",
    "      return emoji_unicodes.sub(r'', string)"
   ],
   "metadata": {
    "collapsed": false
   }
  },
  {
   "cell_type": "markdown",
   "source": [
    "#### Etapa 10-B4. Passe o texto com um emoji para a função"
   ],
   "metadata": {
    "collapsed": false
   }
  },
  {
   "cell_type": "code",
   "execution_count": 283,
   "outputs": [
    {
     "data": {
      "text/plain": "'What are you saying . I am the boss, and why are you so '"
     },
     "execution_count": 283,
     "metadata": {},
     "output_type": "execute_result"
    }
   ],
   "source": [
    "emoji_removal(text1)"
   ],
   "metadata": {
    "collapsed": false
   }
  },
  {
   "cell_type": "markdown",
   "source": [
    "### Problema\n",
    "Encontre bibliotecas que detectam emojis e determinam seu significado.\n",
    "### Solução\n",
    "Você pode usar a biblioteca demoji.\n",
    "### Como funciona\n",
    "Siga estes próximos passos.\n",
    "#### Etapa 10-E1. Leia os dados de texto"
   ],
   "metadata": {
    "collapsed": false
   }
  },
  {
   "cell_type": "code",
   "execution_count": 284,
   "outputs": [],
   "source": [
    "#create sample text data with emoji\n",
    "text3 = \"\"\"\\\n",
    "#Hey, I am going to say something special 🎅� that you are on 🔥 🐂\n",
    "what is wrong with 🌋🌋 and it is so 👹 there are many... 🤡 🚣🏼 👨🏽‍⚖️\n",
    "again with the same issue ... 🔥🔥\n",
    "🇲🇽 and 🇳🇮 to find the best one of all 🔥🔥!!!!!..\"\"\""
   ],
   "metadata": {
    "collapsed": false
   }
  },
  {
   "cell_type": "markdown",
   "source": [
    "#### Etapa 10-E2. Instale e importe as bibliotecas necessárias"
   ],
   "metadata": {
    "collapsed": false
   }
  },
  {
   "cell_type": "code",
   "execution_count": 288,
   "outputs": [],
   "source": [
    "import demoji"
   ],
   "metadata": {
    "collapsed": false
   }
  },
  {
   "cell_type": "markdown",
   "source": [
    "#### Etapa 10-E3. Encontre todos os emojis e determine seu significado"
   ],
   "metadata": {
    "collapsed": false
   }
  },
  {
   "cell_type": "code",
   "execution_count": 289,
   "outputs": [
    {
     "data": {
      "text/plain": "{'🇲🇽': 'flag: Mexico',\n '🎅': 'Santa Claus',\n '🇳🇮': 'flag: Nicaragua',\n '🌋': 'volcano',\n '🔥': 'fire',\n '🐂': 'ox',\n '🤡': 'clown face',\n '🚣🏼': 'person rowing boat: medium-light skin tone',\n '👨🏽\\u200d⚖️': 'man judge: medium skin tone',\n '👹': 'ogre'}"
     },
     "execution_count": 289,
     "metadata": {},
     "output_type": "execute_result"
    }
   ],
   "source": [
    "demoji.findall(text3)"
   ],
   "metadata": {
    "collapsed": false
   }
  },
  {
   "cell_type": "markdown",
   "source": [
    "## Receita 2-11. Construindo um pipeline de pré-processamento de texto\n",
    "Até agora, você concluiu a maioria das técnicas e métodos de manipulação e processamento de texto. Vamos fazer algo interessante nesta receita.\n",
    "### Problema\n",
    "Você deseja construir um pipeline de pré-processamento de texto de ponta a ponta. Sempre que você quiser fazer o pré-processamento de qualquer aplicativo NLP, você pode conectar dados diretamente a essa função de pipeline e obter os dados de texto limpo necessários como saída.\n",
    "### Solução\n",
    "A maneira mais simples é criar uma função personalizada usando todas as técnicas que você aprendeu até agora.\n",
    "### Como funciona\n",
    "Ele funciona colocando todas as técnicas de processamento possíveis em uma função wrapper e passando os dados por ela.\n",
    "#### Etapa 11-1. Ler/criar os dados de texto\n",
    "Vamos criar uma lista de strings e atribuí-la a uma variável—talvez um tweet de amostra."
   ],
   "metadata": {
    "collapsed": false
   }
  },
  {
   "cell_type": "code",
   "execution_count": 292,
   "outputs": [],
   "source": [
    "tweet_sample= \"How to take control of your #debt https://personal.vanguard.com/us/insights/saving-investing/debt-management.#Best advice for #family#financial #success (@PrepareToWin)\""
   ],
   "metadata": {
    "collapsed": false
   }
  },
  {
   "cell_type": "markdown",
   "source": [
    "Você também pode usar seus dados do Twitter extraídos no Capítulo 1.\n",
    "\n",
    "#### Etapa 11-2. Processe o texto\n",
    "Execute a seguinte função para processar o tweet."
   ],
   "metadata": {
    "collapsed": false
   }
  },
  {
   "cell_type": "code",
   "execution_count": 293,
   "outputs": [
    {
     "data": {
      "text/plain": "'How to take control of your debt URL advice for family financial success AT_USER'"
     },
     "execution_count": 293,
     "metadata": {},
     "output_type": "execute_result"
    }
   ],
   "source": [
    "def processRow(row):\n",
    "\n",
    "    import re\n",
    "    import nltk\n",
    "    from textblob import TextBlob\n",
    "    from nltk.corpus import stopwords\n",
    "    from nltk.stem import PorterStemmer\n",
    "    from textblob import Word\n",
    "    from nltk.util import ngrams\n",
    "    import re\n",
    "    from wordcloud import WordCloud, STOPWORDS\n",
    "    from nltk.tokenize import word_tokenize\n",
    "\n",
    "    tweet = row\n",
    "    #Lower case\n",
    "    tweet.lower()\n",
    "    #Removes unicode strings like \"\\u002c\" and \"x96\"\n",
    "    tweet = re.sub(r'(\\\\u[0-9A-Fa-f]+)',r'', tweet)\n",
    "    tweet = re.sub(r'[^\\x00-\\x7f]',r'',tweet)\n",
    "    #convert any url to URL\n",
    "    tweet = re.sub('((www\\.[^\\s]+)|(https?://[^\\s]+))','URL',tweet)\n",
    "    #Convert any @Username to \"AT_USER\"\n",
    "    tweet = re.sub('@[^\\s]+','AT_USER',tweet)\n",
    "    #Remove additional white spaces\n",
    "    tweet = re.sub('[\\s]+', ' ', tweet)\n",
    "    tweet = re.sub('[\\n]+', ' ', tweet)\n",
    "    #Remove not alphanumeric symbols white spaces\n",
    "    tweet = re.sub(r'[^\\w]', ' ', tweet)\n",
    "    #Removes hastag in front of a word \"\"\"\n",
    "    tweet = re.sub(r'#([^\\s]+)', r'\\1', tweet)\n",
    "    #Replace #word with word\n",
    "    tweet = re.sub(r'#([^\\s]+)', r'\\1', tweet)\n",
    "    #Remove :( or :)\n",
    "    tweet = tweet.replace(':)','')\n",
    "    tweet = tweet.replace(':(','')\n",
    "    #remove numbers\n",
    "    tweet = ''.join([i for i in tweet if not i.isdigit()])\n",
    "    #remove multiple exclamation\n",
    "    tweet = re.sub(r\"(\\!)\\1+\", ' ', tweet)\n",
    "    #remove multiple question marks\n",
    "    tweet = re.sub(r\"(\\?)\\1+\", ' ', tweet)\n",
    "    #remove multistop\n",
    "    tweet = re.sub(r\"(\\.)\\1+\", ' ', tweet)\n",
    "    #lemma\n",
    "    from textblob import Word\n",
    "    tweet =\" \".join([Word(word).lemmatize() for word in tweet.split()])\n",
    "    #stemmer\n",
    "    #st = PorterStemmer()\n",
    "    #tweet=\" \".join([st.stem(word) for word in tweet.split()])\n",
    "    #Removes emoticons from text\n",
    "    tweet = re.sub(':\\)|;\\)|:-\\)|\\(-:|:-D|=D|:P|xD|X-p|\\^\\^|:-*|\\^\\.\\^|\\^\\-\\^|\\^\\_\\^|\\,-\\)|\\)-:|:\\'\\(|:\\(|:-\\(|:\\S|T\\.T|\\.\\_\\.|:<|:-\\S|:-<|\\*\\-\\*|:O|=O|=\\-O|O\\.o|XO|O\\_O|:-\\@|=/|:/|X\\-\\(|>\\.<|>=\\(|D:', '', tweet)\n",
    "    #trim\n",
    "    tweet = tweet.strip('\\'\"')\n",
    "\n",
    "    row = tweet\n",
    "\n",
    "    return row\n",
    "\n",
    "#call the function with your data\n",
    "processRow(tweet_sample)"
   ],
   "metadata": {
    "collapsed": false
   }
  },
  {
   "cell_type": "markdown",
   "source": [
    "Até agora, você aprendeu a ler dados de texto e depois processá-los e limpá-los. O próximo capítulo analisa a conversão de texto em recursos significativos que constroem aplicativos de NLP."
   ],
   "metadata": {
    "collapsed": false
   }
  }
 ],
 "metadata": {
  "kernelspec": {
   "display_name": "Python 3",
   "language": "python",
   "name": "python3"
  },
  "language_info": {
   "codemirror_mode": {
    "name": "ipython",
    "version": 2
   },
   "file_extension": ".py",
   "mimetype": "text/x-python",
   "name": "python",
   "nbconvert_exporter": "python",
   "pygments_lexer": "ipython2",
   "version": "2.7.6"
  }
 },
 "nbformat": 4,
 "nbformat_minor": 0
}
