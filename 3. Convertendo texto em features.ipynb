{
 "cells": [
  {
   "cell_type": "markdown",
   "source": [
    "<h1 align=center>Convertendo texto em recursos</h1>\n",
    "<p align=center><img src=https://eu-images.contentstack.com/v3/assets/blt66983808af36a8ef/bltbaa3d257588c7d0c/60e2ea5675106a304cacdaf9/NLP-iQoncept-stock.jpg?quality=80&format=jpg&width=690 width=500></p>\n",
    "\n",
    "\n",
    "Este capítulo abrange métodos de engenharia de recursos básicos a avançados (texto para recursos). No final do capítulo, você estará confortável com as seguintes receitas.\n",
    "* Receita 1. Codificação one-hot\n",
    "* Receita 2. Vetorizador de contagem\n",
    "* Receita 3. n-grama\n",
    "* Receita 4. Matriz de co-ocorrência\n",
    "* Receita 5. Vetorização de hash\n",
    "* Receita 6. Frequência de documento inversa de frequência de termo (TF-IDF)\n",
    "* Receita 7. Incorporação de palavras\n",
    "* Receita 8. Implementando fastText\n",
    "* Receita 9. Convertendo texto em recursos usando incorporações de última geração\n",
    "\n",
    "Agora que todas as etapas de pré-processamento de texto foram discutidas, vamos explorar a engenharia de recursos, a base para a linguagem natural em processamento. Como você sabe, máquinas ou algoritmos não podem entender caracteres, palavras ou frases. Eles só podem receber números como entrada, o que inclui binários. Mas a natureza inerente dos dados textuais é desestruturada e barulhenta, o que impossibilita a interação com máquinas.\n",
    "\n",
    "O procedimento de conversão de texto bruto em um formato compreensível por máquina (números) é chamado de **feature engineering** (engenharia de recursos). O desempenho e a precisão dos algoritmos de aprendizado de máquina e aprendizado profundo dependem fundamentalmente da técnica de engenharia de recursos.\n",
    "\n",
    "Este capítulo discute diferentes métodos e técnicas de engenharia de recursos; suas funcionalidades, vantagens e desvantagens; e exemplos para ajudá-lo a perceber a importância da engenharia de recursos.\n",
    "\n",
    "## Receita 3-1. Conversão de texto em recursos usando a codificação One-Hot\n",
    "A codificação one-hot é o método tradicional usado na engenharia de recursos. Qualquer pessoa que conheça o básico do aprendizado de máquina já se deparou com a codificação one-hot. É o processo de converter variáveis categóricas em recursos ou colunas e codificar um ou zero para essa categoria específica. A mesma lógica é usada aqui, e o número de características é o número total de tokens presentes no corpus.\n",
    "### Problema\n",
    "Você deseja converter texto em um recurso usando a codificação one-hot.\n",
    "### Solução\n",
    "A codificação One-hot converte caracteres ou palavras em números binários, conforme mostrado a seguir.\n",
    "<p align=center><img src=https://www.nomidl.com/wp-content/uploads/2022/06/image-57.png></p>\n",
    "\n",
    "## Como funciona\n",
    "Existem muitas funções para gerar recursos de codificação one-hot. Vamos pegar uma função e discuti-la em profundidade.\n",
    "#### Etapa 1-1. Armazenar o texto em uma variável\n",
    "O código seguinte mostra uma única linha."
   ],
   "metadata": {
    "collapsed": false
   }
  },
  {
   "cell_type": "code",
   "execution_count": 1,
   "outputs": [],
   "source": [
    "text = 'I am learning NLP'"
   ],
   "metadata": {
    "collapsed": false
   }
  },
  {
   "cell_type": "markdown",
   "source": [
    "#### Etapa 1-2. Executar uma função nos dados de texto\n",
    "A seguir está uma função da biblioteca pandas para converter texto em um recurso."
   ],
   "metadata": {
    "collapsed": false
   }
  },
  {
   "cell_type": "code",
   "execution_count": 2,
   "outputs": [
    {
     "data": {
      "text/plain": "   I  NLP  am  learning\n0  1    0   0         0\n1  0    0   1         0\n2  0    0   0         1\n3  0    1   0         0",
      "text/html": "<div>\n<style scoped>\n    .dataframe tbody tr th:only-of-type {\n        vertical-align: middle;\n    }\n\n    .dataframe tbody tr th {\n        vertical-align: top;\n    }\n\n    .dataframe thead th {\n        text-align: right;\n    }\n</style>\n<table border=\"1\" class=\"dataframe\">\n  <thead>\n    <tr style=\"text-align: right;\">\n      <th></th>\n      <th>I</th>\n      <th>NLP</th>\n      <th>am</th>\n      <th>learning</th>\n    </tr>\n  </thead>\n  <tbody>\n    <tr>\n      <th>0</th>\n      <td>1</td>\n      <td>0</td>\n      <td>0</td>\n      <td>0</td>\n    </tr>\n    <tr>\n      <th>1</th>\n      <td>0</td>\n      <td>0</td>\n      <td>1</td>\n      <td>0</td>\n    </tr>\n    <tr>\n      <th>2</th>\n      <td>0</td>\n      <td>0</td>\n      <td>0</td>\n      <td>1</td>\n    </tr>\n    <tr>\n      <th>3</th>\n      <td>0</td>\n      <td>1</td>\n      <td>0</td>\n      <td>0</td>\n    </tr>\n  </tbody>\n</table>\n</div>"
     },
     "execution_count": 2,
     "metadata": {},
     "output_type": "execute_result"
    }
   ],
   "source": [
    "import pandas as pd\n",
    "\n",
    "# Gerando as features\n",
    "\n",
    "pd.get_dummies(text.split())"
   ],
   "metadata": {
    "collapsed": false
   }
  },
  {
   "cell_type": "markdown",
   "source": [
    "A saída possui quatro características, pois o número de palavras distintas presentes na entrada foi 4.\n",
    "\n",
    "## Receita 3-2. Convertendo texto em recursos usando um vetorizador de contagem\n",
    "A abordagem usada na Receita 3-1 tem uma desvantagem. Não considera a frequência de uma palavra. Se uma determinada palavra aparecer várias vezes, há uma chance de perder informações se ela não for incluída na análise. Um vetorizador de contagem resolve esse problema. Esta receita abrange outro método para converter texto em um recurso: o vetorizador de contagem.\n",
    "### Problema\n",
    "Como você converte texto em um recurso usando um vetorizador de contagem?\n",
    "### Solução\n",
    "Um vetorizador de contagem é semelhante à codificação one-hot, mas em vez de verificar se uma determinada palavra está presente ou não, ele conta as palavras que estão presentes no documento. No exemplo a seguir, as palavras I e NLP ocorrem duas vezes no primeiro documento.\n",
    "<p><img src=https://cdn-images-1.medium.com/max/1500/1*DyxhGULG7bwuvQtR1yRB0g.png width=700></p>"
   ],
   "metadata": {
    "collapsed": false
   }
  },
  {
   "cell_type": "markdown",
   "source": [
    "### Como funciona\n",
    "O sklearn possui uma função de extração de recursos que extrai recursos do texto. Vejamos como executar isso. O seguinte importa a função CountVectorizer de sklearn."
   ],
   "metadata": {
    "collapsed": false
   }
  },
  {
   "cell_type": "code",
   "execution_count": 2,
   "outputs": [
    {
     "name": "stdout",
     "output_type": "stream",
     "text": [
      "{'love': 4, 'nlp': 5, 'and': 1, 'will': 6, 'learn': 3, 'in': 2, '2month': 0}\n",
      "[[1 1 1 1 1 2 1]]\n"
     ]
    }
   ],
   "source": [
    "#importing the function\n",
    "from sklearn.feature_extraction.text import CountVectorizer\n",
    "# Text\n",
    "text = [\"I love NLP and I will learn NLP in 2month \"]\n",
    "# create the transform\n",
    "vectorizer = CountVectorizer()\n",
    "# tokenizing\n",
    "vectorizer.fit(text)\n",
    "# encode document\n",
    "vector = vectorizer.transform(text)\n",
    "# summarize & generating output\n",
    "print(vectorizer.vocabulary_)\n",
    "print(vector.toarray())"
   ],
   "metadata": {
    "collapsed": false
   }
  },
  {
   "cell_type": "markdown",
   "source": [
    "O quinto token, nlp, aparece duas vezes no documento."
   ],
   "metadata": {
    "collapsed": false
   }
  },
  {
   "cell_type": "markdown",
   "source": [
    "## Receita 3-3. Gerando n-grams\n",
    "Nos métodos anteriores, cada palavra era considerada uma característica. Há uma desvantagem nesse método. Não considera as palavras anteriores e as palavras seguintes para ver se daria um significado adequado e completo. Por exemplo, considere a frase \"not bad\" (nada mal). Se for dividido em palavras individuais, perde em transmitir a mensagem do bem, que é o que essa frase significa.\n",
    "\n",
    "Como você viu, você pode perder informações ou insights em potencial porque muitas palavras fazem sentido quando são colocadas juntas. Os *n-grams* podem resolver este problema.\n",
    "\n",
    "Os *n-grams* são a fusão de várias letras ou várias palavras. Eles são formados de tal maneira que até as palavras anteriores e seguintes são capturadas.\n",
    "* **Unigramas** são as palavras únicas presentes em uma frase.\n",
    "* Um **bigrama** é a combinação de duas palavras.\n",
    "* Um **trigrama** é a combinação de três palavras. E assim por diante.\n",
    "\n",
    "Por exemplo, veja a frase “I am learning NLP”.\n",
    "* Unigramas: “I”, “am”, “learning”, “NLP”\n",
    "* Bigramas: “I am”, “am learning”, “learning NLP”\n",
    "* Trigramas: “I am learning”, “am learning NLP”\n",
    "\n",
    "### Problema\n",
    "Gere os n-gramas para uma determinada frase.\n",
    "### Solução\n",
    "Existem muitos pacotes que geram n-grams.TextBlob é o mais comumente usado.\n",
    "### Como funciona\n",
    "Siga as etapas desta seção.\n",
    "#### Etapa 3-1. Gerar n-gramas usando TextBlob\n",
    "Vamos ver como gerar n-gramas usando TextBlob."
   ],
   "metadata": {
    "collapsed": false
   }
  },
  {
   "cell_type": "code",
   "execution_count": 2,
   "outputs": [],
   "source": [
    "Text = \"I am learning NLP\""
   ],
   "metadata": {
    "collapsed": false
   }
  },
  {
   "cell_type": "markdown",
   "source": [
    "Use a seguinte função TextBlob para criar n-grams. Use o texto definido e indique o n com base no requisito."
   ],
   "metadata": {
    "collapsed": false
   }
  },
  {
   "cell_type": "code",
   "execution_count": 7,
   "outputs": [
    {
     "name": "stdout",
     "output_type": "stream",
     "text": [
      "N-Gram = 1: [WordList(['I']), WordList(['am']), WordList(['learning']), WordList(['NLP'])]\n",
      "N-Gram = 2: [WordList(['I', 'am']), WordList(['am', 'learning']), WordList(['learning', 'NLP'])]\n",
      "N-Gram = 3: [WordList(['I', 'am', 'learning']), WordList(['am', 'learning', 'NLP'])]\n"
     ]
    }
   ],
   "source": [
    "from textblob import TextBlob\n",
    "\n",
    "# N-gram = 1\n",
    "print(\"N-Gram = 1:\", TextBlob(text=Text).ngrams(1))\n",
    "\n",
    "# N-gram = 2\n",
    "print(\"N-Gram = 2:\", TextBlob(text=Text).ngrams(2))\n",
    "\n",
    "# N-gram = 3\n",
    "print(\"N-Gram = 3:\", TextBlob(text=Text).ngrams(3))"
   ],
   "metadata": {
    "collapsed": false
   }
  },
  {
   "cell_type": "markdown",
   "source": [
    "#### Etapa 3-2. Gerar recursos baseados em bigrama para um documento\n",
    "Assim como na receita anterior, um vetorizador de contagem para gerar feições. Usando a mesma função, vamos gerar recursos de bigrama para ver como é a saída."
   ],
   "metadata": {
    "collapsed": false
   }
  },
  {
   "cell_type": "code",
   "execution_count": 14,
   "outputs": [
    {
     "name": "stdout",
     "output_type": "stream",
     "text": [
      "{'love nlp': 3, 'nlp and': 4, 'and will': 0, 'will learn': 6, 'learn nlp': 2, 'nlp in': 5, 'in 2month': 1}\n",
      "[[1 1 1 1 1 1 1]]\n"
     ]
    }
   ],
   "source": [
    "#importing the function\n",
    "from sklearn.feature_extraction.text import CountVectorizer\n",
    "# Text\n",
    "text = [\"I love NLP and I will learn NLP in 2month \"]\n",
    "# create the transform\n",
    "vectorizer = CountVectorizer(ngram_range=(2,2))\n",
    "# tokenizing\n",
    "vectorizer.fit(text)\n",
    "# encode document\n",
    "vector = vectorizer.transform(text)\n",
    "# summarize & generating output\n",
    "print(vectorizer.vocabulary_)\n",
    "print(vector.toarray())"
   ],
   "metadata": {
    "collapsed": false
   }
  },
  {
   "cell_type": "markdown",
   "source": [
    "A saída possui recursos com bigramas; no exemplo, a contagem é 1 para todos os tokens. Você também pode usar trigramas.\n",
    "\n",
    "## Receita 3-4. Gerando uma Matriz de Coocorrência\n",
    "Vamos discutir um método de engenharia de recursos chamado matriz de coocorrência.\n",
    "### Problema\n",
    "Você deseja entender e gerar uma matriz de co-ocorrência.\n",
    "### Solução\n",
    "Uma matriz de coocorrência é como um vetorizador de contagem; conta a ocorrência de um grupo de palavras em vez de palavras individuais.\n",
    "### Como funciona\n",
    "Vamos ver como gerar esse tipo de matriz usando NLTK, bigramas e algumas habilidades básicas de codificação Python.\n",
    "#### Etapa 4-1. Importe as bibliotecas necessárias\n",
    "Aqui está o código."
   ],
   "metadata": {
    "collapsed": false
   }
  },
  {
   "cell_type": "code",
   "execution_count": 18,
   "outputs": [],
   "source": [
    "import numpy as np\n",
    "import pandas as pd\n",
    "import nltk\n",
    "from nltk import bigrams\n",
    "import itertools"
   ],
   "metadata": {
    "collapsed": false
   }
  },
  {
   "cell_type": "markdown",
   "source": [
    "#### Etapa 4-2. Criar função para uma matriz de co-ocorrência\n",
    "A seguir está a função matriz de co-ocorrência."
   ],
   "metadata": {
    "collapsed": false
   }
  },
  {
   "cell_type": "code",
   "execution_count": 52,
   "outputs": [],
   "source": [
    "def co_occurrence_matrix(corpus):\n",
    "    vocab = set(corpus)\n",
    "    vocab = list(vocab)\n",
    "    vocab_to_index = { word:i for i, word in enumerate(vocab) }\n",
    "    # Create bigrams from all words in corpus\n",
    "    bi_grams = list(bigrams(corpus))\n",
    "    # Frequency distribution of bigrams ((word1, word2), num_occurrences)\n",
    "    bigram_freq = nltk.FreqDist(bi_grams).most_common(len(bi_grams))\n",
    "    # Initialise co-occurrence matrix\n",
    "    co_occurrence_matrix = np.zeros((len(vocab), len(vocab)))\n",
    "    # Loop through the bigrams taking the current and previous word: co_occurrence_matrix[current][previous]\n",
    "    # and the number of occurrences of the bigram.\n",
    "    for bigram in bigram_freq:\n",
    "        current = bigram[0][1]\n",
    "        previous = bigram[0][0]\n",
    "        count = bigram[1]\n",
    "        pos_current = vocab_to_index[current]\n",
    "        pos_previous = vocab_to_index[previous]\n",
    "        co_occurrence_matrix[pos_current][pos_previous] = count\n",
    "    co_occurrence_matrix = np.matrix(co_occurrence_matrix)\n",
    "    # return the matrix and the index\n",
    "    return co_occurrence_matrix,vocab_to_index"
   ],
   "metadata": {
    "collapsed": false
   }
  },
  {
   "cell_type": "markdown",
   "source": [
    "#### Etapa 4-3. Gerar uma matriz de coocorrência\n",
    "Aqui estão as frases para teste."
   ],
   "metadata": {
    "collapsed": false
   }
  },
  {
   "cell_type": "code",
   "execution_count": 53,
   "outputs": [],
   "source": [
    "sentences = [['I', 'love', 'nlp'],\n",
    "            ['I', 'love','to' 'learn'],\n",
    "            ['nlp', 'is', 'future'],\n",
    "            ['nlp', 'is', 'cool']]"
   ],
   "metadata": {
    "collapsed": false
   }
  },
  {
   "cell_type": "code",
   "execution_count": 55,
   "outputs": [
    {
     "name": "stdout",
     "output_type": "stream",
     "text": [
      "         love    I  future  tolearn   is  nlp  cool\n",
      "love      0.0  2.0     0.0      0.0  0.0  0.0   0.0\n",
      "I         0.0  0.0     0.0      0.0  0.0  1.0   0.0\n",
      "future    0.0  0.0     0.0      0.0  1.0  0.0   0.0\n",
      "tolearn   1.0  0.0     0.0      0.0  0.0  0.0   0.0\n",
      "is        0.0  0.0     0.0      0.0  0.0  2.0   0.0\n",
      "nlp       1.0  0.0     1.0      1.0  0.0  0.0   0.0\n",
      "cool      0.0  0.0     0.0      0.0  1.0  0.0   0.0\n"
     ]
    }
   ],
   "source": [
    "# Cria uma única lista com muitas listas\n",
    "merged = list(itertools.chain.from_iterable(sentences))\n",
    "# Desempacota a variável vocab_to_index e matrix\n",
    "matrix, vocab_to_index = co_occurrence_matrix(merged)\n",
    "\n",
    "# gera a matrix\n",
    "CoMatrixFinal = pd.DataFrame(matrix, index=vocab_to_index, columns=vocab_to_index)\n",
    "print(CoMatrixFinal)"
   ],
   "metadata": {
    "collapsed": false
   }
  },
  {
   "cell_type": "markdown",
   "source": [
    "*I, love*, 3 *is, nlp* apareceram juntas duas vezes, e algumas outras palavras apareceram apenas uma vez.\n",
    "\n",
    "## Receita 3-5. Vetorização de hash\n",
    "Um vetorizador de contagem e uma matriz de coocorrência têm uma limitação: o vocabulário pode se tornar muito grande e causar problemas de memória/computação. Um vetorizador de hash é uma maneira de resolver esse problema.\n",
    "### Problema\n",
    "Você deseja entender e gerar um vetorizador de hash.\n",
    "### Solução\n",
    "Um vetorizador de hash é eficiente em termos de memória e, em vez de armazenar tokens como strings, o vetorizador aplica o truque de hash para codificá-los como índices numéricos. A desvantagem é que é unidirecional e, uma vez vetorizado, os recursos não podem ser recuperados.\n",
    "### Como funciona\n",
    "Vejamos um exemplo usando sklearn.\n",
    "#### Etapa 5-1. Importe as bibliotecas necessárias e crie um documento"
   ],
   "metadata": {
    "collapsed": false
   }
  },
  {
   "cell_type": "code",
   "execution_count": 61,
   "outputs": [],
   "source": [
    "from sklearn.feature_extraction.text import HashingVectorizer\n",
    "\n",
    "text = ['Eu gosto de estudar NLP e faço isso sempre pela manhã.']"
   ],
   "metadata": {
    "collapsed": false
   }
  },
  {
   "cell_type": "markdown",
   "source": [
    "#### Etapa 5-2. Gerar uma matriz de vetorizador de hash\n",
    "Vamos criar uma matriz de vetorização de hash (HashingVectorizer) com um tamanho de vetor de 10."
   ],
   "metadata": {
    "collapsed": false
   }
  },
  {
   "cell_type": "code",
   "execution_count": 69,
   "outputs": [
    {
     "name": "stdout",
     "output_type": "stream",
     "text": [
      "(1, 10)\n",
      "[[ 0.          0.         -0.63245553 -0.31622777  0.          0.31622777\n",
      "   0.31622777  0.31622777  0.31622777 -0.31622777]]\n"
     ]
    }
   ],
   "source": [
    "# transform\n",
    "vectorizer = HashingVectorizer(n_features=10)\n",
    "# create the hashing vector\n",
    "vector = vectorizer.transform(text)\n",
    "\n",
    "# summarize the vector\n",
    "print(vector.shape)\n",
    "print(vector.toarray())"
   ],
   "metadata": {
    "collapsed": false
   }
  },
  {
   "cell_type": "markdown",
   "source": [
    "Ele criou um vetor de tamanho 10, e agora pode ser usado para qualquer tarefa supervisionada/não supervisionada.\n",
    "\n",
    "## Receita 3-6. Convertendo texto em recursos usando TF-IDF\n",
    "Os métodos **text-to-feature** mencionados acima têm algumas desvantagens, daí a introdução do TF-IDF. A seguir estão algumas das desvantagens.\n",
    "* Digamos que uma determinada palavra apareça em todos os documentos do corpus. Ele alcança maior importância em nossos métodos anteriores, mas isso pode não ser relevante para o seu caso.\n",
    "* O TF-IDF reflete sobre a importância de uma palavra para um documento em uma coleção e, portanto, normaliza palavras que aparecem com frequência em todos os documentos.\n",
    "\n",
    "### Problema\n",
    "Você deseja converter texto em recursos usando TF-IDF.\n",
    "\n",
    "###Solução\n",
    "A **frequência do termo (TF)** é a razão entre a contagem de uma determinada palavra presente em uma frase e a contagem total de palavras na mesma frase. O TF captura a importância da palavra independentemente do tamanho do documento. Por exemplo, uma palavra com frequência 3 em uma frase com 10 palavras é diferente de quando o comprimento da frase é de 100 palavras. Deveria ter mais importância no primeiro cenário, que é o que o TF faz. **TF(t)** = (Número de vezes que o termo t aparece em um documento) / (Número total de termos no documento).\n",
    "\n",
    "**A frequência inversa de documentos (IDF)** é um logaritmo da razão entre o número total de linhas e o número de linhas em um documento específico no qual uma palavra está presente. IDF = log(N/n), onde N é o número total de linhas e n é o número de linhas em que a palavra estava presente.\n",
    "\n",
    "IDF mede a raridade de um termo. Palavras como **a** e **the** aparecem em todos os documentos do corpus, mas palavras raras não estão em todos os documentos. Assim, se uma palavra aparece em quase todos os documentos, essa palavra não serve para nada, pois não ajuda na classificação ou na recuperação da informação. IDF anula este problema.\n",
    "\n",
    "O TF-IDF é o produto simples do TF e do IDF que aborda ambas as desvantagens, tornando as previsões e a recuperação de informações relevantes.\n",
    "~~~python\n",
    "TF-IDF = TF * IDF\n",
    "~~~\n",
    "### Como funciona\n",
    "Siga as etapas desta seção.\n",
    "#### Etapa 6-1. Leia os dados de texto\n",
    "A seguir, uma frase familiar."
   ],
   "metadata": {
    "collapsed": false
   }
  },
  {
   "cell_type": "code",
   "execution_count": 80,
   "outputs": [],
   "source": [
    "text = ['A juventude é bela.', 'A vida é bela.', 'Eu sou a juventude e sou bela']"
   ],
   "metadata": {
    "collapsed": false
   }
  },
  {
   "cell_type": "markdown",
   "source": [
    "#### Etapa 6-2. Crie os recursos\n",
    "Execute o seguinte código nos dados de texto."
   ],
   "metadata": {
    "collapsed": false
   }
  },
  {
   "cell_type": "code",
   "execution_count": 81,
   "outputs": [
    {
     "data": {
      "text/plain": "TfidfVectorizer()",
      "text/html": "<style>#sk-container-id-4 {color: black;background-color: white;}#sk-container-id-4 pre{padding: 0;}#sk-container-id-4 div.sk-toggleable {background-color: white;}#sk-container-id-4 label.sk-toggleable__label {cursor: pointer;display: block;width: 100%;margin-bottom: 0;padding: 0.3em;box-sizing: border-box;text-align: center;}#sk-container-id-4 label.sk-toggleable__label-arrow:before {content: \"▸\";float: left;margin-right: 0.25em;color: #696969;}#sk-container-id-4 label.sk-toggleable__label-arrow:hover:before {color: black;}#sk-container-id-4 div.sk-estimator:hover label.sk-toggleable__label-arrow:before {color: black;}#sk-container-id-4 div.sk-toggleable__content {max-height: 0;max-width: 0;overflow: hidden;text-align: left;background-color: #f0f8ff;}#sk-container-id-4 div.sk-toggleable__content pre {margin: 0.2em;color: black;border-radius: 0.25em;background-color: #f0f8ff;}#sk-container-id-4 input.sk-toggleable__control:checked~div.sk-toggleable__content {max-height: 200px;max-width: 100%;overflow: auto;}#sk-container-id-4 input.sk-toggleable__control:checked~label.sk-toggleable__label-arrow:before {content: \"▾\";}#sk-container-id-4 div.sk-estimator input.sk-toggleable__control:checked~label.sk-toggleable__label {background-color: #d4ebff;}#sk-container-id-4 div.sk-label input.sk-toggleable__control:checked~label.sk-toggleable__label {background-color: #d4ebff;}#sk-container-id-4 input.sk-hidden--visually {border: 0;clip: rect(1px 1px 1px 1px);clip: rect(1px, 1px, 1px, 1px);height: 1px;margin: -1px;overflow: hidden;padding: 0;position: absolute;width: 1px;}#sk-container-id-4 div.sk-estimator {font-family: monospace;background-color: #f0f8ff;border: 1px dotted black;border-radius: 0.25em;box-sizing: border-box;margin-bottom: 0.5em;}#sk-container-id-4 div.sk-estimator:hover {background-color: #d4ebff;}#sk-container-id-4 div.sk-parallel-item::after {content: \"\";width: 100%;border-bottom: 1px solid gray;flex-grow: 1;}#sk-container-id-4 div.sk-label:hover label.sk-toggleable__label {background-color: #d4ebff;}#sk-container-id-4 div.sk-serial::before {content: \"\";position: absolute;border-left: 1px solid gray;box-sizing: border-box;top: 0;bottom: 0;left: 50%;z-index: 0;}#sk-container-id-4 div.sk-serial {display: flex;flex-direction: column;align-items: center;background-color: white;padding-right: 0.2em;padding-left: 0.2em;position: relative;}#sk-container-id-4 div.sk-item {position: relative;z-index: 1;}#sk-container-id-4 div.sk-parallel {display: flex;align-items: stretch;justify-content: center;background-color: white;position: relative;}#sk-container-id-4 div.sk-item::before, #sk-container-id-4 div.sk-parallel-item::before {content: \"\";position: absolute;border-left: 1px solid gray;box-sizing: border-box;top: 0;bottom: 0;left: 50%;z-index: -1;}#sk-container-id-4 div.sk-parallel-item {display: flex;flex-direction: column;z-index: 1;position: relative;background-color: white;}#sk-container-id-4 div.sk-parallel-item:first-child::after {align-self: flex-end;width: 50%;}#sk-container-id-4 div.sk-parallel-item:last-child::after {align-self: flex-start;width: 50%;}#sk-container-id-4 div.sk-parallel-item:only-child::after {width: 0;}#sk-container-id-4 div.sk-dashed-wrapped {border: 1px dashed gray;margin: 0 0.4em 0.5em 0.4em;box-sizing: border-box;padding-bottom: 0.4em;background-color: white;}#sk-container-id-4 div.sk-label label {font-family: monospace;font-weight: bold;display: inline-block;line-height: 1.2em;}#sk-container-id-4 div.sk-label-container {text-align: center;}#sk-container-id-4 div.sk-container {/* jupyter's `normalize.less` sets `[hidden] { display: none; }` but bootstrap.min.css set `[hidden] { display: none !important; }` so we also need the `!important` here to be able to override the default hidden behavior on the sphinx rendered scikit-learn.org. See: https://github.com/scikit-learn/scikit-learn/issues/21755 */display: inline-block !important;position: relative;}#sk-container-id-4 div.sk-text-repr-fallback {display: none;}</style><div id=\"sk-container-id-4\" class=\"sk-top-container\"><div class=\"sk-text-repr-fallback\"><pre>TfidfVectorizer()</pre><b>In a Jupyter environment, please rerun this cell to show the HTML representation or trust the notebook. <br />On GitHub, the HTML representation is unable to render, please try loading this page with nbviewer.org.</b></div><div class=\"sk-container\" hidden><div class=\"sk-item\"><div class=\"sk-estimator sk-toggleable\"><input class=\"sk-toggleable__control sk-hidden--visually\" id=\"sk-estimator-id-4\" type=\"checkbox\" checked><label for=\"sk-estimator-id-4\" class=\"sk-toggleable__label sk-toggleable__label-arrow\">TfidfVectorizer</label><div class=\"sk-toggleable__content\"><pre>TfidfVectorizer()</pre></div></div></div></div></div>"
     },
     "execution_count": 81,
     "metadata": {},
     "output_type": "execute_result"
    }
   ],
   "source": [
    "from sklearn.feature_extraction.text import TfidfVectorizer\n",
    "\n",
    "vectorizer = TfidfVectorizer()\n",
    "\n",
    "# Tokenizer e construir o vocabulário\n",
    "vectorizer.fit(text)"
   ],
   "metadata": {
    "collapsed": false
   }
  },
  {
   "cell_type": "code",
   "execution_count": 82,
   "outputs": [
    {
     "name": "stdout",
     "output_type": "stream",
     "text": [
      "{'juventude': 2, 'bela': 0, 'vida': 4, 'eu': 1, 'sou': 3}\n",
      "[1.         1.69314718 1.28768207 1.69314718 1.69314718]\n"
     ]
    }
   ],
   "source": [
    "# Resumo\n",
    "print(vectorizer.vocabulary_)\n",
    "print(vectorizer.idf_)"
   ],
   "metadata": {
    "collapsed": false
   }
  },
  {
   "cell_type": "markdown",
   "source": [
    "Observe que o aparece nos três documentos, portanto não agrega muito valor. O valor do vetor é 1, que é menor que todos os outros tokens. Todos os métodos ou técnicas que você viu até agora são baseados na frequência. Eles são chamados de incorporações ou recursos baseados em frequência. A próxima receita analisa os embeddings baseados em previsão, normalmente chamados de embeddings de palavras.\n",
    "\n",
    "## Receita 3-7. Implementando Word Embeddings\n",
    "Esta receita pressupõe que você tenha um conhecimento prático de como uma rede neural funciona e os mecanismos pelos quais os pesos na rede neural são atualizados. Mesmo que todos os métodos anteriores resolvam a maioria dos problemas, quando você entra em problemas mais complexos onde deseja capturar a relação semântica entre palavras (contexto), esses métodos não funcionam. O seguinte explica os desafios com os métodos discutidos até agora.\n",
    "* As técnicas falham em capturar o contexto e o significado das palavras. Eles dependem da aparência ou frequência das palavras. Você precisa saber como capturar o contexto ou as relações semânticas.\n",
    "    * I am eating an *apple*\n",
    "    * I am using an *Apple*.\n",
    "\n",
    "No exemplo, *apple* tem significados diferentes quando é usada com palavras adjacentes diferentes (próximas) comendo e usando.\n",
    "* Para um problema como classificação de documentos (classificação de livros na biblioteca), um documento é enorme e muitos tokens são gerados. Nesses cenários, seu número de recursos pode ficar fora de controle (onde), prejudicando a precisão e o desempenho.\n",
    "\n",
    "Uma máquina/algoritmo pode combinar dois documentos/textos e dizer se eles são iguais ou não. Como fazemos as máquinas falarem sobre *criket* ou *Virat Kohli* quando você procura por *MS Dhoni*? Como você faz a máquina entender que a palavra *apple* em “*An apple is a tasty fruit*” é uma fruta que pode ser comida e não uma companhia?\n",
    "\n",
    "A resposta a essas perguntas está na criação de uma representação para palavras que capturem seus significados, relações semânticas e os diferentes tipos de contextos em que são usadas.\n",
    "\n",
    "Incorporações de palavras abordam esses desafios. A incorporação de palavras é uma técnica de aprendizado de recursos na qual o vocabulário é mapeado para vetores de números reais, capturando a hierarquia contextual.\n",
    "\n",
    "Na tabela a seguir, cada palavra é representada por quatro números, chamados de vetores. Usando a técnica de incorporação de palavras, derivamos esses vetores para cada palavra para usá-los em futuras análises e aplicações de construção. No exemplo, a dimensão é quatro, mas você normalmente usa uma dimensão maior que 100."
   ],
   "metadata": {
    "collapsed": false
   }
  },
  {
   "cell_type": "code",
   "execution_count": 83,
   "outputs": [
    {
     "data": {
      "image/png": "[encoded data removed]",
      "text/plain": "<IPython.core.display.Image object>"
     },
     "execution_count": 83,
     "metadata": {},
     "output_type": "execute_result"
    }
   ],
   "source": [
    "from IPython.display import Image\n",
    "Image('images/word_vectors.PNG')"
   ],
   "metadata": {
    "collapsed": false
   }
  }
 ],
 "metadata": {
  "kernelspec": {
   "display_name": "Python 3",
   "language": "python",
   "name": "python3"
  },
  "language_info": {
   "codemirror_mode": {
    "name": "ipython",
    "version": 2
   },
   "file_extension": ".py",
   "mimetype": "text/x-python",
   "name": "python",
   "nbconvert_exporter": "python",
   "pygments_lexer": "ipython2",
   "version": "2.7.6"
  }
 },
 "nbformat": 4,
 "nbformat_minor": 0
}
