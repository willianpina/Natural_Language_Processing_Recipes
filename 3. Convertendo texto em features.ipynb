{
 "cells": [
  {
   "cell_type": "markdown",
   "source": [
    "<h1 align=center>Convertendo texto em recursos</h1>\n",
    "<p align=center><img src=https://eu-images.contentstack.com/v3/assets/blt66983808af36a8ef/bltbaa3d257588c7d0c/60e2ea5675106a304cacdaf9/NLP-iQoncept-stock.jpg?quality=80&format=jpg&width=690 width=500></p>\n",
    "\n",
    "\n",
    "Este capítulo abrange métodos de engenharia de recursos básicos a avançados (texto para recursos). No final do capítulo, você estará confortável com as seguintes receitas.\n",
    "* Receita 1. Codificação one-hot\n",
    "* Receita 2. Vetorizador de contagem\n",
    "* Receita 3. n-grama\n",
    "* Receita 4. Matriz de co-ocorrência\n",
    "* Receita 5. Vetorização de hash\n",
    "* Receita 6. Frequência de documento inversa de frequência de termo (TF-IDF)\n",
    "* Receita 7. Incorporação de palavras\n",
    "* Receita 8. Implementando fastText\n",
    "* Receita 9. Convertendo texto em recursos usando incorporações de última geração\n",
    "\n",
    "Agora que todas as etapas de pré-processamento de texto foram discutidas, vamos explorar a engenharia de recursos, a base para a linguagem natural em processamento. Como você sabe, máquinas ou algoritmos não podem entender caracteres, palavras ou frases. Eles só podem receber números como entrada, o que inclui binários. Mas a natureza inerente dos dados textuais é desestruturada e barulhenta, o que impossibilita a interação com máquinas.\n",
    "\n",
    "O procedimento de conversão de texto bruto em um formato compreensível por máquina (números) é chamado de **feature engineering** (engenharia de recursos). O desempenho e a precisão dos algoritmos de aprendizado de máquina e aprendizado profundo dependem fundamentalmente da técnica de engenharia de recursos.\n",
    "\n",
    "Este capítulo discute diferentes métodos e técnicas de engenharia de recursos; suas funcionalidades, vantagens e desvantagens; e exemplos para ajudá-lo a perceber a importância da engenharia de recursos.\n",
    "\n",
    "## Receita 3-1. Conversão de texto em recursos usando a codificação One-Hot\n",
    "A codificação one-hot é o método tradicional usado na engenharia de recursos. Qualquer pessoa que conheça o básico do aprendizado de máquina já se deparou com a codificação one-hot. É o processo de converter variáveis categóricas em recursos ou colunas e codificar um ou zero para essa categoria específica. A mesma lógica é usada aqui, e o número de características é o número total de tokens presentes no corpus.\n",
    "### Problema\n",
    "Você deseja converter texto em um recurso usando a codificação one-hot.\n",
    "### Solução\n",
    "A codificação One-hot converte caracteres ou palavras em números binários, conforme mostrado a seguir.\n",
    "<p align=center><img src=https://www.nomidl.com/wp-content/uploads/2022/06/image-57.png></p>\n",
    "\n",
    "## Como funciona\n",
    "Existem muitas funções para gerar recursos de codificação one-hot. Vamos pegar uma função e discuti-la em profundidade.\n",
    "#### Etapa 1-1. Armazenar o texto em uma variável\n",
    "O código seguinte mostra uma única linha."
   ],
   "metadata": {
    "collapsed": false
   }
  },
  {
   "cell_type": "code",
   "execution_count": 1,
   "outputs": [],
   "source": [
    "text = 'I am learning NLP'"
   ],
   "metadata": {
    "collapsed": false
   }
  },
  {
   "cell_type": "markdown",
   "source": [
    "#### Etapa 1-2. Executar uma função nos dados de texto\n",
    "A seguir está uma função da biblioteca pandas para converter texto em um recurso."
   ],
   "metadata": {
    "collapsed": false
   }
  },
  {
   "cell_type": "code",
   "execution_count": 2,
   "outputs": [
    {
     "data": {
      "text/plain": "   I  NLP  am  learning\n0  1    0   0         0\n1  0    0   1         0\n2  0    0   0         1\n3  0    1   0         0",
      "text/html": "<div>\n<style scoped>\n    .dataframe tbody tr th:only-of-type {\n        vertical-align: middle;\n    }\n\n    .dataframe tbody tr th {\n        vertical-align: top;\n    }\n\n    .dataframe thead th {\n        text-align: right;\n    }\n</style>\n<table border=\"1\" class=\"dataframe\">\n  <thead>\n    <tr style=\"text-align: right;\">\n      <th></th>\n      <th>I</th>\n      <th>NLP</th>\n      <th>am</th>\n      <th>learning</th>\n    </tr>\n  </thead>\n  <tbody>\n    <tr>\n      <th>0</th>\n      <td>1</td>\n      <td>0</td>\n      <td>0</td>\n      <td>0</td>\n    </tr>\n    <tr>\n      <th>1</th>\n      <td>0</td>\n      <td>0</td>\n      <td>1</td>\n      <td>0</td>\n    </tr>\n    <tr>\n      <th>2</th>\n      <td>0</td>\n      <td>0</td>\n      <td>0</td>\n      <td>1</td>\n    </tr>\n    <tr>\n      <th>3</th>\n      <td>0</td>\n      <td>1</td>\n      <td>0</td>\n      <td>0</td>\n    </tr>\n  </tbody>\n</table>\n</div>"
     },
     "execution_count": 2,
     "metadata": {},
     "output_type": "execute_result"
    }
   ],
   "source": [
    "import pandas as pd\n",
    "\n",
    "# Gerando as features\n",
    "\n",
    "pd.get_dummies(text.split())"
   ],
   "metadata": {
    "collapsed": false
   }
  },
  {
   "cell_type": "markdown",
   "source": [
    "A saída possui quatro características, pois o número de palavras distintas presentes na entrada foi 4."
   ],
   "metadata": {
    "collapsed": false
   }
  }
 ],
 "metadata": {
  "kernelspec": {
   "display_name": "Python 3",
   "language": "python",
   "name": "python3"
  },
  "language_info": {
   "codemirror_mode": {
    "name": "ipython",
    "version": 2
   },
   "file_extension": ".py",
   "mimetype": "text/x-python",
   "name": "python",
   "nbconvert_exporter": "python",
   "pygments_lexer": "ipython2",
   "version": "2.7.6"
  }
 },
 "nbformat": 4,
 "nbformat_minor": 0
}
