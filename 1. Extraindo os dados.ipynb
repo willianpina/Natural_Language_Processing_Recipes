{
 "cells": [
  {
   "cell_type": "markdown",
   "source": [
    "<h1 align=center>Capítulo 1 - Extraindo os dados</h1>\n",
    "<p align=center><img src=https://storage.semalt.com/uploads/articles/ffb78f0420d216ddd492ef413f29a1eb0.jpg width=500></p>\n",
    "\n",
    "De acordo com estimativas da indústria, mais de 80% dos dados gerados estão em um formato não estruturado na forma de texto, imagens, áudio ou vídeo. Os dados estão sendo gerados à medida que falamos, escrevemos, tweetamos, usamos plataformas de mídia social, enviamos mensagens em plataformas de mensagens, usamos comércio eletrônico para fazer compras e fazemos várias outras atividades. A maioria desses dados existe na forma textual.\n",
    "<p align=center><img src=https://qph.cf2.quoracdn.net/main-qimg-09cef034f1d77a4f54c97528cd5a5cbd-pjlq width=500></p>\n",
    "\n",
    "Então, o que são dados não estruturados? Dados não estruturados são informações que não residem em um banco de dados relacional tradicional. Exemplos incluem documentos, blogs, feeds de mídia social, fotos e vídeos.\n",
    "\n",
    "A maioria dos insights está bloqueada em diferentes tipos de dados não estruturados. O desbloqueio de dados não estruturados desempenha um papel vital em todas as organizações que desejam tomar decisões cada vez melhores. Este livro desbloqueia o potencial dos dados textuais.\n",
    "\n",
    "Os dados textuais são os mais comuns e compreendem mais de 50% dos dados não estruturados. Exemplos incluem tweets/postagens em mídias sociais, conversas de bate-papo, notícias, blogs, artigos, análises de produtos ou serviços e registros de pacientes no setor de saúde. Exemplos recentes incluem bots acionados por voz, como Siri e Alexa."
   ],
   "metadata": {
    "collapsed": false
   }
  },
  {
   "cell_type": "markdown",
   "source": [
    "Para recuperar insights significativos e acionáveis de dados textuais e desbloquear seu potencial, usamos processamento de linguagem natural juntamente com aprendizado de máquina e aprendizado profundo.\n",
    "\n",
    "Mas o que é processamento de linguagem natural? Máquinas e algoritmos não entendem texto ou caracteres, por isso é muito importante converter dados textuais em um formato compreensível por máquina (como números ou binários) para analisá-los. O processamento de linguagem natural (NLP) permite que as máquinas entendam e interpretem a linguagem humana.\n",
    "\n",
    "Se você quiser usar o poder do texto não estruturado, este livro é o ponto de partida certo. Este livro desenterra os conceitos e a implementação do processamento de linguagem natural e suas aplicações no mundo real. A PNL oferece oportunidades ilimitadas para resolver problemas interessantes em inteligência artificial, tornando-a a fronteira mais recente para o desenvolvimento de aplicativos inteligentes baseados em aprendizado profundo."
   ],
   "metadata": {
    "collapsed": false
   }
  },
  {
   "cell_type": "markdown",
   "source": [
    "# Extraindo os dados\n",
    "\n",
    "Este capítulo abrange várias fontes de dados de texto e as formas de extraí-los. Os dados textuais podem atuar como informações ou insights para as empresas. As seguintes receitas são cobertas.\n",
    "* **Receita 1**. Coleta de dados de texto usando APIs\n",
    "* **Receita 2**. Lendo um arquivo PDF em Python\n",
    "* **Receita 3**. Lendo um documento do Word\n",
    "* **Receita 4**. Lendo um objeto JSON\n",
    "* **Receita 5**. Lendo uma página HTML e analisando HTML\n",
    "* **Receita 6**. Expressões regulares\n",
    "* **Receita 7**. Manipulação de strings\n",
    "* **Receita 8**. Web scraping\n",
    "\n",
    "## Introdução\n",
    "Antes de entrar nos detalhes do livro, vamos examinar as fontes de dados geralmente disponíveis. Precisamos identificar fontes de dados em potencial que podem ajudar a resolver casos de uso de ciência de dados.\n",
    "\n",
    "## Dados do cliente\n",
    "Para qualquer declaração de problema, uma das fontes são os dados que já estão presentes. A empresa decide onde deseja armazenar seus dados. O armazenamento de dados depende do tipo de negócio, da quantidade de dados e dos custos associados às fontes. Seguem alguns exemplos:\n",
    "* Bancos de dados SQL\n",
    "* HDFS\n",
    "* Armazenamento na núvem\n",
    "* Arquivos simples\n",
    "\n",
    "## Fontes gratuitas\n",
    "Uma grande quantidade de dados está disponível gratuitamente na Internet. Você só precisa simplificar o problema e começar a explorar várias fontes de dados gratuitas.\n",
    "* APIs gratuitas como Twitter\n",
    "* Wikipedia\n",
    "* Dados governamentais (por exemplo, http://data.gov)\n",
    "* Dados do censo (por exemplo, www.census.gov/data.html)\n",
    "* Dados de reivindicações de assistência médica (por exemplo, www.healthdata.gov )\n",
    "* Sites da comunidade de ciência de dados (por exemplo, www.kaggle.com)\n",
    "* Pesquisa de conjunto de dados do Google (por exemplo, https://datasetsearch.research.google.com)"
   ],
   "metadata": {
    "collapsed": false
   }
  },
  {
   "cell_type": "markdown",
   "source": [
    "## Web Scraping\n",
    "Extrair o conteúdo/dados de sites, blogs, fóruns e sites de varejo para revisões com permissão das respectivas fontes usando pacotes de raspagem da web em Python.\n",
    "\n",
    "Existem muitas outras fontes, como dados de notícias e dados econômicos, que podem ser aproveitados para análise.\n",
    "\n",
    "### Receita 1-1. Coletando dados\n",
    "Existem muitas APIs gratuitas através das quais você pode coletar dados e usá-los para resolver problemas. Vamos discutir a API do Twitter.\n",
    "\n",
    "### Problema\n",
    "Você deseja coletar dados de texto usando APIs do Twitter.\n",
    "\n",
    "### Solução\n",
    "O Twitter tem uma quantidade gigantesca de dados com muito valor. Os profissionais de marketing de mídia social ganham a vida com isso. Há um número enorme de tweets todos os dias, e cada tweet tem alguma história para contar. Quando todos esses dados são coletados e analisados, eles fornecem insights incríveis sobre sua empresa, produto, serviço e assim por diante.\n",
    "\n",
    "Vamos agora ver como extrair dados e, em seguida, explorar como aproveitá-los nos próximos capítulos."
   ],
   "metadata": {
    "collapsed": false
   }
  },
  {
   "cell_type": "markdown",
   "source": [
    "### Como funciona\n",
    "#### Etapa 1-1. Faça login no portal do desenvolvedor do Twitter\n",
    "Faça login no portal do desenvolvedor do Twitter em *https://developer.twitter.com*.\n",
    "\n",
    "Crie seu próprio aplicativo no portal do desenvolvedor do Twitter e obtenha as seguintes chaves. Depois de ter essas credenciais, você pode começar a extrair dados.\n",
    "* chave do consumidor: A chave associada ao aplicativo (Twitter, Facebook, etc.)\n",
    "* segredo do consumidor: A senha usada para autenticar com o servidor de autenticação (Twitter, Facebook, etc.)\n",
    "* token de acesso: A chave fornecida ao cliente após autenticação bem-sucedida de chaves\n",
    "* segredo do token de acesso: A senha para a chave de acesso\n",
    "\n",
    "#### Etapa 1-2. Executar consulta em Python\n",
    "Depois que todas as credenciais estiverem no lugar, use o código a seguir para buscar os dados."
   ],
   "metadata": {
    "collapsed": false
   }
  },
  {
   "cell_type": "code",
   "execution_count": 20,
   "outputs": [
    {
     "name": "stdout",
     "output_type": "stream",
     "text": [
      "{'newest_id': '1591614294139211779', 'oldest_id': '1591613554872156160', 'result_count': 10, 'next_token': 'b26v89c19zqg8o3fpzhjn4xycwt7ua9rml7l77963qw71'}\n",
      "1591614294139211779\n",
      "RT @AndreJanonesAdv: https://t.co/t4XwfsJ5GW\n",
      "{'edit_history_tweet_ids': ['1591614294139211779'], 'id': '1591614294139211779', 'text': 'RT @AndreJanonesAdv: https://t.co/t4XwfsJ5GW'}\n",
      "\n",
      "1591614258248552448\n",
      "E os americanos estão contando papelzinho a alguns dias kkk\n",
      "e até agora não sabem como vai terminar a midterms (eleições legislativas de meio de mandato).\n",
      "\n",
      "E tem lunático aqui no Brasil contra Urna Eletrônica.\n",
      "{'edit_history_tweet_ids': ['1591614258248552448'], 'id': '1591614258248552448', 'text': 'E os americanos estão contando papelzinho a alguns dias kkk\\ne até agora não sabem como vai terminar a midterms (eleições legislativas de meio de mandato).\\n\\nE tem lunático aqui no Brasil contra Urna Eletrônica.'}\n",
      "\n",
      "1591614116824760320\n",
      "RT @AnaZus2019: BRASIL, 12/11/2022 _ SÃO PAULO\n",
      "🇧🇷🇧🇷🇧🇷\n",
      "13°. dia de manifestações. \n",
      "Há 13 dias o povo não sai das ruas, em protesto à falta d…\n",
      "{'edit_history_tweet_ids': ['1591614116824760320'], 'id': '1591614116824760320', 'text': 'RT @AnaZus2019: BRASIL, 12/11/2022 _ SÃO PAULO\\n🇧🇷🇧🇷🇧🇷\\n13°. dia de manifestações. \\nHá 13 dias o povo não sai das ruas, em protesto à falta d…'}\n",
      "\n",
      "1591614071253921793\n",
      "De uma ponta a outra do Brasil o POVO é detentor da VERDADE, SEJA ÍNDIO, BRANCO, NEGRO, EMPREGADO OU EMPRESÁRIO, NINGUÉM AGUENTA A SUPREMA CORTE, NINGUÉM ACEITA O ROUBO DAS ELEIÇÕES. https://t.co/rqZfS6QeC0\n",
      "{'edit_history_tweet_ids': ['1591614071253921793'], 'id': '1591614071253921793', 'text': 'De uma ponta a outra do Brasil o POVO é detentor da VERDADE, SEJA ÍNDIO, BRANCO, NEGRO, EMPREGADO OU EMPRESÁRIO, NINGUÉM AGUENTA A SUPREMA CORTE, NINGUÉM ACEITA O ROUBO DAS ELEIÇÕES. https://t.co/rqZfS6QeC0'}\n",
      "\n",
      "1591614001385181184\n",
      "RT @AnaZus2019: BRASIL, 12/11/2022 _ SÃO PAULO\n",
      "🇧🇷🇧🇷🇧🇷\n",
      "13°. dia de manifestações. \n",
      "Há 13 dias o povo não sai das ruas, em protesto à falta d…\n",
      "{'edit_history_tweet_ids': ['1591614001385181184'], 'id': '1591614001385181184', 'text': 'RT @AnaZus2019: BRASIL, 12/11/2022 _ SÃO PAULO\\n🇧🇷🇧🇷🇧🇷\\n13°. dia de manifestações. \\nHá 13 dias o povo não sai das ruas, em protesto à falta d…'}\n",
      "\n",
      "1591613943663177728\n",
      "RT @iara_morbiducci: Transferência é isso. Ler o que prevê a lei, solicitar por ofício as informações que não podem ser negadas sob pena de…\n",
      "{'edit_history_tweet_ids': ['1591613943663177728'], 'id': '1591613943663177728', 'text': 'RT @iara_morbiducci: Transferência é isso. Ler o que prevê a lei, solicitar por ofício as informações que não podem ser negadas sob pena de…'}\n",
      "\n",
      "1591613911530614784\n",
      "RT @Rico_Pinheir0: Bom dia, Patriotas!\n",
      "A todos do Brasil inteiro q estão vindo à Brasília, a manifestação é no QG, q fica no Setor Militar…\n",
      "{'edit_history_tweet_ids': ['1591613911530614784'], 'id': '1591613911530614784', 'text': 'RT @Rico_Pinheir0: Bom dia, Patriotas!\\nA todos do Brasil inteiro q estão vindo à Brasília, a manifestação é no QG, q fica no Setor Militar…'}\n",
      "\n",
      "1591613740562407424\n",
      "@revistaoeste Como esse negócio de INTERFERIR em eleições tá virando moda no mundo, hein!? \n",
      "Agora o Canadá acusa a China de fazer isso. EUA acusaram Rússia de fazer o mesmo. Fontes afirmam que Biden e a CIA interferiram na eleição do Brasil. E agora a... https://t.co/ObyqfxLZdC\n",
      "{'edit_history_tweet_ids': ['1591613740562407424'], 'id': '1591613740562407424', 'text': '@revistaoeste Como esse negócio de INTERFERIR em eleições tá virando moda no mundo, hein!? \\nAgora o Canadá acusa a China de fazer isso. EUA acusaram Rússia de fazer o mesmo. Fontes afirmam que Biden e a CIA interferiram na eleição do Brasil. E agora a... https://t.co/ObyqfxLZdC'}\n",
      "\n",
      "1591613596756500480\n",
      "RT @AnaZus2019: BRASIL, 12/11/2022 _ SÃO PAULO\n",
      "🇧🇷🇧🇷🇧🇷\n",
      "13°. dia de manifestações. \n",
      "Há 13 dias o povo não sai das ruas, em protesto à falta d…\n",
      "{'edit_history_tweet_ids': ['1591613596756500480'], 'id': '1591613596756500480', 'text': 'RT @AnaZus2019: BRASIL, 12/11/2022 _ SÃO PAULO\\n🇧🇷🇧🇷🇧🇷\\n13°. dia de manifestações. \\nHá 13 dias o povo não sai das ruas, em protesto à falta d…'}\n",
      "\n",
      "1591613554872156160\n",
      "RT @CintiaMaritan: @gleisi Golpe é roubar as estatais, roubar o povo, roubar as eleições, roubar o Brasil. Não aceitamos mais isso!!! basta!\n",
      "{'edit_history_tweet_ids': ['1591613554872156160'], 'id': '1591613554872156160', 'text': 'RT @CintiaMaritan: @gleisi Golpe é roubar as estatais, roubar o povo, roubar as eleições, roubar o Brasil. Não aceitamos mais isso!!! basta!'}\n",
      "\n"
     ]
    },
    {
     "data": {
      "text/plain": "[<Tweet id=1591614294139211779 text='RT @AndreJanonesAdv: https://t.co/t4XwfsJ5GW'>,\n <Tweet id=1591614258248552448 text='E os americanos estão contando papelzinho a alguns dias kkk\\ne até agora não sabem como vai terminar a midterms (eleições legislativas de meio de mandato).\\n\\nE tem lunático aqui no Brasil contra Urna Eletrônica.'>,\n <Tweet id=1591614116824760320 text='RT @AnaZus2019: BRASIL, 12/11/2022 _ SÃO PAULO\\n🇧🇷🇧🇷🇧🇷\\n13°. dia de manifestações. \\nHá 13 dias o povo não sai das ruas, em protesto à falta d…'>,\n <Tweet id=1591614071253921793 text='De uma ponta a outra do Brasil o POVO é detentor da VERDADE, SEJA ÍNDIO, BRANCO, NEGRO, EMPREGADO OU EMPRESÁRIO, NINGUÉM AGUENTA A SUPREMA CORTE, NINGUÉM ACEITA O ROUBO DAS ELEIÇÕES. https://t.co/rqZfS6QeC0'>,\n <Tweet id=1591614001385181184 text='RT @AnaZus2019: BRASIL, 12/11/2022 _ SÃO PAULO\\n🇧🇷🇧🇷🇧🇷\\n13°. dia de manifestações. \\nHá 13 dias o povo não sai das ruas, em protesto à falta d…'>,\n <Tweet id=1591613943663177728 text='RT @iara_morbiducci: Transferência é isso. Ler o que prevê a lei, solicitar por ofício as informações que não podem ser negadas sob pena de…'>,\n <Tweet id=1591613911530614784 text='RT @Rico_Pinheir0: Bom dia, Patriotas!\\nA todos do Brasil inteiro q estão vindo à Brasília, a manifestação é no QG, q fica no Setor Militar…'>,\n <Tweet id=1591613740562407424 text='@revistaoeste Como esse negócio de INTERFERIR em eleições tá virando moda no mundo, hein!? \\nAgora o Canadá acusa a China de fazer isso. EUA acusaram Rússia de fazer o mesmo. Fontes afirmam que Biden e a CIA interferiram na eleição do Brasil. E agora a... https://t.co/ObyqfxLZdC'>,\n <Tweet id=1591613596756500480 text='RT @AnaZus2019: BRASIL, 12/11/2022 _ SÃO PAULO\\n🇧🇷🇧🇷🇧🇷\\n13°. dia de manifestações. \\nHá 13 dias o povo não sai das ruas, em protesto à falta d…'>,\n <Tweet id=1591613554872156160 text='RT @CintiaMaritan: @gleisi Golpe é roubar as estatais, roubar o povo, roubar as eleições, roubar o Brasil. Não aceitamos mais isso!!! basta!'>,\n <Tweet id=1591613475172020226 text='RT @MdqMel: #Brasil 🇧🇷🇧🇷 \\n#Brasília 🇧🇷💪🇧🇷\\nManifestação hoje em Brasília. 🇧🇷💪🇧🇷\\nÉ contra o resultado das eleições. 🇧🇷🗳️🇧🇷 https://t.co/cZoQy…'>,\n <Tweet id=1591613434533400577 text='RT @AnaZus2019: BRASIL, 12/11/2022 _ SÃO PAULO\\n🇧🇷🇧🇷🇧🇷\\n13°. dia de manifestações. \\nHá 13 dias o povo não sai das ruas, em protesto à falta d…'>,\n <Tweet id=1591613425033125889 text='RT @bollemdb: Thank you @RobinBrooksIIF, obrigada!\\n\\n\"O Brasil teve eleições há 2 semanas e a transferência de poder é pacífica, um ganho te…'>,\n <Tweet id=1591613424139919360 text='RT @PlenoNews: Pesquisa: 43,1% acham que Jair Bolsonaro foi injustiçado\\n#pesquisa #Bolsonaro #eleicoes #PlenoNews\\nhttps://t.co/VYBdTteh64'>,\n <Tweet id=1591613379600617472 text='RT @Rico_Pinheir0: Bom dia, Patriotas!\\nA todos do Brasil inteiro q estão vindo à Brasília, a manifestação é no QG, q fica no Setor Militar…'>,\n <Tweet id=1591613340668796928 text='RT @Rico_Pinheir0: Bom dia, Patriotas!\\nA todos do Brasil inteiro q estão vindo à Brasília, a manifestação é no QG, q fica no Setor Militar…'>,\n <Tweet id=1591613328383971328 text='RT @bollemdb: Thank you @RobinBrooksIIF, obrigada!\\n\\n\"O Brasil teve eleições há 2 semanas e a transferência de poder é pacífica, um ganho te…'>,\n <Tweet id=1591613304879087616 text='Mundo S.O.S🌍🇧🇷\\nFraude nas eleições\\npessoas nas ruas\\nBrasil parou\\nnão à censura  🤐\\nLiberdade🗽 \\nSTF não me representa\\nS.O.S World🌍🇧🇷 Fraud in elections\\npeople on the streets\\nBrazil stopped \\nno to censorship 🤐 \\nfreedom 🗽 \\nSTF does not represent me https://t.co/54TeQ7iuZu'>,\n <Tweet id=1591613256724013056 text='RT @BlogdoNoblat: [Enquanto o Brasil passa fome...] Bolsonaro trabalhou somente 24 minutos por dia depois das eleições (uol)'>,\n <Tweet id=1591613255977402370 text='RT @Rico_Pinheir0: Bom dia, Patriotas!\\nA todos do Brasil inteiro q estão vindo à Brasília, a manifestação é no QG, q fica no Setor Militar…'>,\n <Tweet id=1591613161685360640 text='RT @BlogPequi: Ontem varei a madrugada fazendo a divulgação de S.O.S Brasil na região da Arábia Saudita no idioma deles, hoje irei divulgar…'>,\n <Tweet id=1591613105351819264 text='RT @BlogdoNoblat: [Enquanto o Brasil passa fome...] Bolsonaro trabalhou somente 24 minutos por dia depois das eleições (uol)'>,\n <Tweet id=1591613026738003968 text='RT @BlogPequi: Ontem varei a madrugada fazendo a divulgação de S.O.S Brasil na região da Arábia Saudita no idioma deles, hoje irei divulgar…'>,\n <Tweet id=1591612986661167104 text='RT @AnaZus2019: BRASIL, 12/11/2022 _ SÃO PAULO\\n🇧🇷🇧🇷🇧🇷\\n13°. dia de manifestações. \\nHá 13 dias o povo não sai das ruas, em protesto à falta d…'>,\n <Tweet id=1591612986489192448 text='RT @mfelipemit: Transferência é isso. Ler o que prevê a lei, solicitar por ofício as informações que não podem ser negadas sob pena de anul…'>,\n <Tweet id=1591612978692251648 text='RT @Metropoles: ▶️General Freire Gomes não participa de redes sociais, afirma Exército\\n\\nPerfis falsos estavam sendo atribuídos ao general n…'>,\n <Tweet id=1591612978558033920 text='RT @iara_morbiducci: Transferência é isso. Ler o que prevê a lei, solicitar por ofício as informações que não podem ser negadas sob pena de…'>,\n <Tweet id=1591612975613620224 text='@marciatiburi O mesmo governo que desgovernou o Brasil rumo à maior crise Econômica, com rombos, corrupções, dinheiros em cueca, sítios, obras super faturadas, MESALAO, Odebrecht, PETROLÃO, 2 semanas das eleições e perdemos vários investidores. 1 mês para o país quebrar'>,\n <Tweet id=1591612917296037888 text='☆☆ de quartéis para pedir intervenção militar não é manifestação. Querer tirar à força um presidente eleito democraticamente e que é o primeiro e único a vencer três vezes as eleições do #Brasil em toda a nossa história republicana é golpe. É um crime contra o Estado (segue)'>,\n <Tweet id=1591612889135255556 text='Vamos povo, salvar o Brasil!!!\\nO poder é o povo!!!!\\nEleições limpas!!!! https://t.co/eHZ56ExZIR'>,\n <Tweet id=1591612843614666756 text='RT @AndreJanonesAdv: https://t.co/t4XwfsJ5GW'>,\n <Tweet id=1591612774475792386 text='@pjwerneck Pedro, subimos em nosso site a distribuição das urnas por ano de fabricação no 2 turno das eleições:\\n\\nhttps://t.co/mSvIqafDvE'>,\n <Tweet id=1591612754913378311 text='RT @draraissasoares: Senador Heinze e senador Girao em nome de 15 senadores que já assinaram a solicitação junto ao MP PARA INVESTIGAR AS E…'>,\n <Tweet id=1591612750337552384 text='RT @AnaZus2019: BRASIL, 12/11/2022 _ SÃO PAULO\\n🇧🇷🇧🇷🇧🇷\\n13°. dia de manifestações. \\nHá 13 dias o povo não sai das ruas, em protesto à falta d…'>,\n <Tweet id=1591612730099863552 text='RT @Fasalles: Meu filho de 9 anos também chorou quando saiu o resultado das eleições,  questionou como alguém que roubou o Brasil pode ser…'>,\n <Tweet id=1591612655118454784 text='Eventos que me fodi esse ano:\\n2 municipais perdidos\\n1 copa feroz perdida\\nEliminado da liberta\\nDerrota na final da copa do Brasil \\nEleições \\nE pra fechar a lista… Furia'>,\n <Tweet id=1591612649367805952 text='@MatthewTyrmand @alexandre @TSEjusbr @STF_oficial @LRobertoBarroso Pela liberdade, pela democracia, por eleições limpas, pelo respeito a Constituição e Leis do Brasil, povo é único poder soberano. 🇧🇷💚🌻 https://t.co/Tf63FXeiqc'>,\n <Tweet id=1591612639687442436 text='RT @Rico_Pinheir0: Bom dia, Patriotas!\\nA todos do Brasil inteiro q estão vindo à Brasília, a manifestação é no QG, q fica no Setor Militar…'>,\n <Tweet id=1591612635128238086 text='RT @roxmo: O Brasil elegeu um condenado e preso por corrupção https://t.co/zqyNMnxnMu'>,\n <Tweet id=1591612594351403008 text='RT @hugoalbuquerque: Olhando a apuração das eleições de meio de mandato nos EUA: o Brasil está anos-luz à frente do Grande Irmão do Norte e…'>,\n <Tweet id=1591612574717849602 text='RT @VieiraFogaca: COMANDO SUDESTE SP CAPITAL 12NOV2022....SOS FORÇAS ARMADAS SALVEM O BRASIL...FRAUDE NAS ELEIÇÕES 🇧🇷🇧🇷🇧🇷 https://t.co/bfHh…'>,\n <Tweet id=1591612477393240064 text='RT @AnaZus2019: BRASIL, 12/11/2022 _ SÃO PAULO\\n🇧🇷🇧🇷🇧🇷\\n13°. dia de manifestações. \\nHá 13 dias o povo não sai das ruas, em protesto à falta d…'>,\n <Tweet id=1591612472263417859 text='RT @lordivan22: Brasil 🇧🇷:Na manhã deste sábado (12) fiz um vídeo no Instagram, sobre as eleições de midterm nos EUA. Nem cito o Brasil.\\nEi…'>,\n <Tweet id=1591612456509771776 text='RT @AnaZus2019: BRASIL, 12/11/2022 _ SÃO PAULO\\n🇧🇷🇧🇷🇧🇷\\n13°. dia de manifestações. \\nHá 13 dias o povo não sai das ruas, em protesto à falta d…'>,\n <Tweet id=1591612453238050822 text='RT @PlenoNews: Pesquisa: 43,1% acham que Jair Bolsonaro foi injustiçado\\n#pesquisa #Bolsonaro #eleicoes #PlenoNews\\nhttps://t.co/VYBdTteh64'>,\n <Tweet id=1591612431465598976 text='RT @hugoalbuquerque: Olhando a apuração das eleições de meio de mandato nos EUA: o Brasil está anos-luz à frente do Grande Irmão do Norte e…'>,\n <Tweet id=1591612413476233216 text='RT @AnaZus2019: BRASIL, 12/11/2022 _ SÃO PAULO\\n🇧🇷🇧🇷🇧🇷\\n13°. dia de manifestações. \\nHá 13 dias o povo não sai das ruas, em protesto à falta d…'>,\n <Tweet id=1591612399836176386 text='RT @Metropoles: ▶️General Freire Gomes não participa de redes sociais, afirma Exército\\n\\nPerfis falsos estavam sendo atribuídos ao general n…'>,\n <Tweet id=1591612384464232449 text='RT @AnaZus2019: BRASIL, 12/11/2022 _ SÃO PAULO\\n🇧🇷🇧🇷🇧🇷\\n13°. dia de manifestações. \\nHá 13 dias o povo não sai das ruas, em protesto à falta d…'>,\n <Tweet id=1591612358715215873 text='RT @AnaZus2019: BRASIL, 12/11/2022 _ SÃO PAULO\\n🇧🇷🇧🇷🇧🇷\\n13°. dia de manifestações. \\nHá 13 dias o povo não sai das ruas, em protesto à falta d…'>,\n <Tweet id=1591612308983525376 text='RT @AnaZus2019: BRASIL, 12/11/2022 _ SÃO PAULO\\n🇧🇷🇧🇷🇧🇷\\n13°. dia de manifestações. \\nHá 13 dias o povo não sai das ruas, em protesto à falta d…'>,\n <Tweet id=1591612301278420994 text='RT @draraissasoares: Senador Heinze e senador Girao em nome de 15 senadores que já assinaram a solicitação junto ao MP PARA INVESTIGAR AS E…'>,\n <Tweet id=1591612282265649153 text='BRASIL, 12/11/2022 _ PORTO ALEGRE\\n🇧🇷🇧🇷🇧🇷\\n13°. dia de manifestações. \\nHá 13 dias o povo não sai das ruas, em protesto à falta de transparência nas eleições-2022, que teriam elegido o maior corrupto do País  como seu Presidente.\\nFORÇAS ARMADAS\\nSALVEM O BRASIL! https://t.co/9LDOLl17Rk'>,\n <Tweet id=1591612212275183617 text='RT @ClaudeLuca_: Avisem o Fachin que a direita está esperta e que já sabe que infiltrados querem causar a desordem pra nos culpar.\\nQuem tá…'>,\n <Tweet id=1591612104468996097 text='@joicehasselmann Ô dona, explica o que é isso:\\nDesde quando está planejado??\\nhttps://t.co/tth1AMyLsf'>,\n <Tweet id=1591611977696436225 text='RT @Poder360: Brasil não terá paz se Lula ou Bolsonaro ganhar, diz Tebet (@simonetebetbr)\\nhttps://t.co/v714Jk5vVD'>,\n <Tweet id=1591611912198017024 text='RT @SergioAJBarrett: O Lula chorou ontem porque há milhões de pessoas passando fome no Brasil.  \\nO Bolsonaro chorou hoje porque perdeu as e…'>,\n <Tweet id=1591611874474397701 text='RT @nubiaamerico: Essas eleições no Brasil, não foram limpas, foram impostas por uma pessoa que pensa que é Deus, nos brasileiros, estamos…'>,\n <Tweet id=1591611826114105346 text='🇧🇷💚🌻 Brasil nas ruas pelo liberdade, pela democracia, pelo respeito a Constituição e Leis do Brasil, por eleições limpas e transparente, não queremos um bandido, criminoso governando o Brasil. @BBCNews @FoxNews @cnni https://t.co/6FPljW2qg6'>,\n <Tweet id=1591611819457667077 text='RT @PlenoNews: Pesquisa: 43,1% acham que Jair Bolsonaro foi injustiçado\\n#pesquisa #Bolsonaro #eleicoes #PlenoNews\\nhttps://t.co/VYBdTteh64'>,\n <Tweet id=1591611758157996032 text='RT @PlenoNews: Pesquisa: 43,1% acham que Jair Bolsonaro foi injustiçado\\n#pesquisa #Bolsonaro #eleicoes #PlenoNews\\nhttps://t.co/VYBdTteh64'>,\n <Tweet id=1591611756849549312 text='BRASIL, 12/11/2022 _ BRASÍLIA \\n🇧🇷🇧🇷🇧🇷\\n13°. dia de manifestações. \\nHá 13 dias o povo não sai das ruas, em protesto à falta de transparência nas eleições-2022, que teriam elegido o maior corrupto do País  como seu Presidente.\\nNÃO VAMOS ENTREGAR O NOSSO BRASIL! https://t.co/nJAgqd5wgb'>,\n <Tweet id=1591611751698661384 text='RT @Rico_Pinheir0: Bom dia, Patriotas!\\nA todos do Brasil inteiro q estão vindo à Brasília, a manifestação é no QG, q fica no Setor Militar…'>,\n <Tweet id=1591611572258246656 text='RT @Rico_Pinheir0: Bom dia, Patriotas!\\nA todos do Brasil inteiro q estão vindo à Brasília, a manifestação é no QG, q fica no Setor Militar…'>,\n <Tweet id=1591611567837249537 text='@CCamelini 🇧🇷🕊💚👼💙💟🕊🌧💯%📢SOS Forças Armadas SALVEM O Brasil _Bolsonaro tem RAZÃO ele sabe onde está o CÂNCER!STF e STE Cadê os códigos das fontes das Urnas eleitorais Eletrônica das eleições de Presidente 2022?Somos mais de 58 milhões de VOTOS para Bolsonaro!🇧🇷🕊 https://t.co/OO88GVspc0'>,\n <Tweet id=1591611554616995840 text='@MarceloFreixo Crime é tirar um bandido da cadeia para ser nomeado pelo TSE presidente do Brasil. \\nEleições tem que ter transparência e auditoria, sem isso é golpe.'>,\n <Tweet id=1591611516213932032 text='RT @Viviane03031162: @vivireispsol A Damares já foi premiada nas eleições com o cargo de Senadora do  Brasil, isso já é mais que suficiente.'>,\n <Tweet id=1591611511260291072 text='RT @lordivan22: Brasil 🇧🇷:Na manhã deste sábado (12) fiz um vídeo no Instagram, sobre as eleições de midterm nos EUA. Nem cito o Brasil.\\nEi…'>,\n <Tweet id=1591611456008908801 text='RT @Rico_Pinheir0: Bom dia, Patriotas!\\nA todos do Brasil inteiro q estão vindo à Brasília, a manifestação é no QG, q fica no Setor Militar…'>,\n <Tweet id=1591611444847869952 text='RT @bollemdb: Thank you @RobinBrooksIIF, obrigada!\\n\\n\"O Brasil teve eleições há 2 semanas e a transferência de poder é pacífica, um ganho te…'>,\n <Tweet id=1591611389961175040 text='@JanainaDoBrasil 1964 aconteceu por coisas desse tipo.\\nSó existe uma maneira de saber a verdade, anular as eleições digitais e realizar outra com papel... 😉😉\\nVão dizer que é retrocesso? \\nNada funciona no Brasil, SUS com máquina de RaioX quebrada e tem imbecil defendendo urna eletrônica.'>,\n <Tweet id=1591611361322500096 text='RT @draraissasoares: Senador Heinze e senador Girao em nome de 15 senadores que já assinaram a solicitação junto ao MP PARA INVESTIGAR AS E…'>,\n <Tweet id=1591611066492092416 text='RT @ClaudeLuca_: Avisem o Fachin que a direita está esperta e que já sabe que infiltrados querem causar a desordem pra nos culpar.\\nQuem tá…'>,\n <Tweet id=1591611036578492416 text='RT @Rico_Pinheir0: Bom dia, Patriotas!\\nA todos do Brasil inteiro q estão vindo à Brasília, a manifestação é no QG, q fica no Setor Militar…'>,\n <Tweet id=1591610907116830720 text='RT @Rico_Pinheir0: Bom dia, Patriotas!\\nA todos do Brasil inteiro q estão vindo à Brasília, a manifestação é no QG, q fica no Setor Militar…'>,\n <Tweet id=1591610898703073282 text='RT @choquei: 🚨BRASIL: Spike Lee esteve hoje no RJ, onde ele dirigiu o clipe \"They Don\\'t Care About Us\", de Michael Jackson, em 1996.\\n\\nO cin…'>,\n <Tweet id=1591610889819803649 text='@querluzestrela @Thiagossants @CentralEleicoes O pior é que muita gente liga, subestimar demais o bolsonaro levou ele a governar ou desgovernar o Brasil por 4 anos. \\nQuerendo ou não a margem apertada das eleições deixa ele com um capital político enorme, mesmo perdendo.'>,\n <Tweet id=1591610830357139456 text='RT @Metropoles: ▶️General Freire Gomes não participa de redes sociais, afirma Exército\\n\\nPerfis falsos estavam sendo atribuídos ao general n…'>,\n <Tweet id=1591610771171311620 text='RT @Rico_Pinheir0: Bom dia, Patriotas!\\nA todos do Brasil inteiro q estão vindo à Brasília, a manifestação é no QG, q fica no Setor Militar…'>,\n <Tweet id=1591610636705959938 text='RT @AndreaAndreaSFL: Fraude nas eleições no Brasil!\\n#BrazilWasStolen #BrazilianSpring\\u202f#Brasil #Brazil #Brasília #CensuraNao #SOSForcasArmad…'>,\n <Tweet id=1591610607698337794 text='RT @bitMurilo: Em frente a MARINHA DO BRASIL em Itajai/SC, AS 21:00hs. Atos cívicos, muitos patriotas, Hinos Nacionais, à Bandeira. Homens,…'>,\n <Tweet id=1591610461841428481 text='BRASIL, 12/11/2022 _ SÃO PAULO\\n🇧🇷🇧🇷🇧🇷\\n13°. dia de manifestações. \\nHá 13 dias o povo não sai das ruas, em protesto à falta de transparência nas eleições-2022, que teriam elegido o maior corrupto do País  como seu Presidente.\\nFORÇAS ARMADAS\\nSALVEM O BRASIL! https://t.co/ZsjWKHaJoX'>,\n <Tweet id=1591610386083905536 text='RT @mfelipemit: Transferência é isso. Ler o que prevê a lei, solicitar por ofício as informações que não podem ser negadas sob pena de anul…'>,\n <Tweet id=1591610358346952704 text='RT @AlbMascarello: @Heinzeoficial Pelo Brasil , pela constituição ...\\nVocês deveriam votar segunda feira pela anulação das eleições !!!! ht…'>,\n <Tweet id=1591610223134998528 text='O Brasil elegeu um condenado e preso por corrupção https://t.co/0liWV3UNyc'>,\n <Tweet id=1591610067039977472 text='Mancon intermediando acordo para eleições livres na Venezuela ano que vem. Tem coisas que a França faz muito bem. O Brasil não participa. Ainda. \\nPS. A Guiana Francesa com protagonismo na região. https://t.co/0F6yhjTlD3'>,\n <Tweet id=1591610016712495105 text='RT @AndreJanonesAdv: https://t.co/t4XwfsJ5GW'>,\n <Tweet id=1591609999754948608 text='RT @AndreJanonesAdv: https://t.co/t4XwfsJ5GW'>,\n <Tweet id=1591609952069877761 text='RT @Rico_Pinheir0: Bom dia, Patriotas!\\nA todos do Brasil inteiro q estão vindo à Brasília, a manifestação é no QG, q fica no Setor Militar…'>,\n <Tweet id=1591609884218429442 text='F eleições\\n   F major\\n      F copa\\n                   \\n                F Brasil'>,\n <Tweet id=1591609736469925889 text='https://t.co/2xWpcc48eK\\nUm vídeo bem explicativo do que esta acontecendo nestas eleições.\\nVamos rezar para que Deus providencie a libertação do Brasil de toda esta escravidão, malícia, trapassa, mentira, prostituição,promiscuidadeheresias, assassinato, drogas, vida fácil...'>,\n <Tweet id=1591609589476524033 text='RT @draraissasoares: Senador Heinze e senador Girao em nome de 15 senadores que já assinaram a solicitação junto ao MP PARA INVESTIGAR AS E…'>,\n <Tweet id=1591609325709295620 text='RT @AndreJanonesAdv: https://t.co/t4XwfsJ5GW'>,\n <Tweet id=1591609050747310081 text='RT @draraissasoares: Senador Heinze e senador Girao em nome de 15 senadores que já assinaram a solicitação junto ao MP PARA INVESTIGAR AS E…'>,\n <Tweet id=1591609045823410176 text='RT @Rico_Pinheir0: Bom dia, Patriotas!\\nA todos do Brasil inteiro q estão vindo à Brasília, a manifestação é no QG, q fica no Setor Militar…'>,\n <Tweet id=1591608977619652610 text='🚨 ATENÇÃO: Ministra Stefani Germanotta acaba de cancelar ida ao Brasil e prisões dos ministros do TSE após descobrir que não houve fraude nas eleições. https://t.co/l51k5Bkf9Z'>,\n <Tweet id=1591608974067240961 text='RT @Helenan51628122: @RubensOtoni Quem merece cadeia venceu as eleições.  No Brasil, qualquer juiz, promotor ou procurador que ousar invest…'>,\n <Tweet id=1591608912549416960 text='RT @Metropoles: ▶️General Freire Gomes não participa de redes sociais, afirma Exército\\n\\nPerfis falsos estavam sendo atribuídos ao general n…'>,\n <Tweet id=1591608843213078529 text='Aprendamos argentinos\\n\\n#Brasil 🇧🇷🇧🇷 \\n#Brasília 🇧🇷💪🇧🇷\\nManifestação hoje em Brasília. 🇧🇷💪🇧🇷\\nÉ contra o resultado das eleições. 🇧🇷🗳️🇧🇷 https://t.co/ER2Ba3wMe8'>,\n <Tweet id=1591608843116904448 text='RT @Rico_Pinheir0: Bom dia, Patriotas!\\nA todos do Brasil inteiro q estão vindo à Brasília, a manifestação é no QG, q fica no Setor Militar…'>]"
     },
     "execution_count": 20,
     "metadata": {},
     "output_type": "execute_result"
    }
   ],
   "source": [
    "import numpy as np\n",
    "import tweepy\n",
    "import json\n",
    "import pandas as pd\n",
    "from tweepy import OAuthHandler\n",
    "\n",
    "# credenciais\n",
    "bearer_token = \"AAAAAAAAAAAAAAAAAAAAAPYCjQEAAAAAi%2BWAn99Dkguke4OzP0Pm5N4KC%2Bw%3DCsJayf49BE10MwshVLqEnCP5vsVSVuxfmy943qyrKYHKDHq76S\"\n",
    "consumer_key = 'qZ2TnCPKzf0RhAWVerOrC7xLU'\n",
    "consumer_secret = 'xa6sDbGCNXQW2lDtQRAKr5W3oqScMy8sVSH1a3CUmue3lXhgpr'\n",
    "access_token = \"909120106462138368-nrgFMea82XCdixg3fnFMEKcg2lonEZP\"\n",
    "access_token_secret = \"jZ71e13RZjuwFhw85XyC740YDN2gAz0xwM4t6J3hNv8h3\"\n",
    "\n",
    "\n",
    "client = tweepy.Client(bearer_token)\n",
    "\n",
    "# Search Recent Tweets\n",
    "\n",
    "# This endpoint/method returns Tweets from the last seven days\n",
    "\n",
    "response = client.search_recent_tweets(\"Eleições Brasil\")\n",
    "# The method returns a Response object, a named tuple with data, includes,\n",
    "# errors, and meta fields\n",
    "print(response.meta)\n",
    "\n",
    "# In this case, the data field of the Response returned is a list of Tweet\n",
    "# objects\n",
    "tweets = response.data\n",
    "\n",
    "# Each Tweet object has default ID and text fields\n",
    "for tweet in tweets:\n",
    "    print(tweet.id)\n",
    "    print(tweet.text)\n",
    "    print(tweet.data)\n",
    "    print()\n",
    "\n",
    "# By default, this endpoint/method returns 10 results\n",
    "# You can retrieve up to 100 Tweets by specifying max_results\n",
    "response = client.search_recent_tweets(\"Eleições Brasil\", max_results=100)\n",
    "response.data"
   ],
   "metadata": {
    "collapsed": false
   }
  },
  {
   "cell_type": "markdown",
   "source": [
    "Essa consulta extrai os dez principais tweets quando o produto ABC é pesquisado. A API puxa tweets em inglês, pois o idioma fornecido é 'en' e exclui retuítes.\n",
    "\n",
    "## Receita 1-2. Coletando dados de PDFs\n",
    "A maioria de seus dados é armazenada em arquivos PDF. Você precisa extrair o texto desses arquivos e armazená-lo para análise posterior.\n",
    "\n",
    "### Problema\n",
    "Você deseja ler um arquivo PDF.\n",
    "\n",
    "### Solução\n",
    "A maneira mais simples de ler um arquivo PDF é usando a biblioteca **PyPDF2**.\n",
    "\n",
    "### Como funciona\n",
    "Siga as etapas desta seção para extrair dados de arquivos PDF.\n",
    "\n",
    "#### Etapa 2-1. Instale e importe todas as bibliotecas necessárias\n",
    "Aqui estão as primeiras linhas de código."
   ],
   "metadata": {
    "collapsed": false
   }
  },
  {
   "cell_type": "code",
   "execution_count": 21,
   "outputs": [],
   "source": [
    "import PyPDF2\n",
    "from PyPDF2 import PdfFileReader"
   ],
   "metadata": {
    "collapsed": false
   }
  },
  {
   "cell_type": "markdown",
   "source": [
    "Nota Você pode baixar qualquer arquivo PDF da web e colocá-lo no local onde você está executando este notebook Jupyter ou script Python.\n",
    "\n",
    "#### Etapa 2-2. Extrair texto de um arquivo PDF\n",
    "Agora vamos extrair o texto."
   ],
   "metadata": {
    "collapsed": false
   }
  },
  {
   "cell_type": "code",
   "execution_count": 31,
   "outputs": [
    {
     "name": "stdout",
     "output_type": "stream",
     "text": [
      "5260\n",
      "1 INTR ODUÇÃ O\n",
      "O ob jetiv o deste relatório é utilizar os dados de Rendimen to A cadêmico disp onív eis na\n",
      "UFMG para pro duzir informação sobre o desemp enho dos discen tes de graduação, a v aliar\n",
      "a di\u001Cculdade das principais disciplinas de cada curso e tam b ém analisar a taxa de ev asão.\n",
      "Esp era-se pro duzir um relatório mo delo que p ossa estim ular o acompanhamen to con tín uo\n",
      "do curso p ela co ordenação.\n",
      "Neste relatório serão analisados os dados do curso presencial de A dministração Diurno\n",
      "no p erío do de 2004/1 a 2014/1 . F oram analisados os dados de to dos os alunos matricula-\n",
      "dos no curso neste p erío do, com exceção somen te dos alunos matriculados em decorrência\n",
      "de con tin uidade de estudos.\n",
      "Os dados analisados neste relatório encon tram-se armazenados no Cen tro de Computa-\n",
      "ção da UFMG (CECOM) e são utilizados para alimen tar o Sistema SIGA. O tratamen to,\n",
      "análise dos dados e pro dução do relatório foi realizado p elo Setor de Estatística da Pró-\n",
      "Reitoria de Graduação da UFMG.\n",
      "O softwar e utilizado para o desen v olvimen to das análises foi o softwar e R, disp onív el\n",
      "para do wnload em h ttp://www.r-pro ject.org/.\n",
      "5\n"
     ]
    }
   ],
   "source": [
    "#Creating a pdf file object\n",
    "pdf = open(\"RelatorioCursos.pdf\",\"rb\")\n",
    "#creating pdf reader object\n",
    "pdf_reader = PyPDF2.PdfFileReader(pdf)\n",
    "#checking number of pages in a pdf file\n",
    "print(pdf_reader.numPages)\n",
    "#creating a page object\n",
    "page = pdf_reader.getPage(9)\n",
    "#finally extracting text from the page\n",
    "\n",
    "print(page.extractText())\n",
    "#closing the pdf file\n",
    "pdf.close()"
   ],
   "metadata": {
    "collapsed": false
   }
  },
  {
   "cell_type": "markdown",
   "source": [
    "Observe que a função não funciona para PDFs digitalizados e as vezes não é muito bom!!!"
   ],
   "metadata": {
    "collapsed": false
   }
  }
 ],
 "metadata": {
  "kernelspec": {
   "display_name": "Python 3",
   "language": "python",
   "name": "python3"
  },
  "language_info": {
   "codemirror_mode": {
    "name": "ipython",
    "version": 2
   },
   "file_extension": ".py",
   "mimetype": "text/x-python",
   "name": "python",
   "nbconvert_exporter": "python",
   "pygments_lexer": "ipython2",
   "version": "2.7.6"
  }
 },
 "nbformat": 4,
 "nbformat_minor": 0
}
